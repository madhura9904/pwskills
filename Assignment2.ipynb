{
  "metadata": {
    "language_info": {
      "codemirror_mode": {
        "name": "python",
        "version": 3
      },
      "file_extension": ".py",
      "mimetype": "text/x-python",
      "name": "python",
      "nbconvert_exporter": "python",
      "pygments_lexer": "ipython3",
      "version": "3.8"
    },
    "kernelspec": {
      "name": "python",
      "display_name": "Python (Pyodide)",
      "language": "python"
    }
  },
  "nbformat_minor": 4,
  "nbformat": 4,
  "cells": [
    {
      "cell_type": "code",
      "source": "#1\nComments can be defined by '#' and by using qoutes:',\"\nSingle line comments:\n    'This is an example.'\nMulti-line python:\n    '''This is \n    an example\n    fr this.'''",
      "metadata": {},
      "execution_count": null,
      "outputs": []
    },
    {
      "cell_type": "code",
      "source": "#2\nVariables:Stores any data assigned to it.\nExample:a=2",
      "metadata": {},
      "execution_count": null,
      "outputs": []
    },
    {
      "cell_type": "code",
      "source": "#3\nc=tuple(b)\nc=str(b)\nc=list(b)\nc=int(b)",
      "metadata": {},
      "execution_count": null,
      "outputs": []
    },
    {
      "cell_type": "code",
      "source": "#4\npythonfirst_script.pyHello!\n'Enter'\n",
      "metadata": {},
      "execution_count": null,
      "outputs": []
    },
    {
      "cell_type": "code",
      "source": "#5\nmy_list = [1, 2, 3, 4, 5]\nmy_list[1:3]\n",
      "metadata": {
        "trusted": true
      },
      "execution_count": 2,
      "outputs": [
        {
          "execution_count": 2,
          "output_type": "execute_result",
          "data": {
            "text/plain": "[2, 3]"
          },
          "metadata": {}
        }
      ]
    },
    {
      "cell_type": "code",
      "source": "#6\nComplex no is of the form:a+ib,where a is the real number and ib is the imaginary part.\nIn python:a+bj\nEx:2+7j",
      "metadata": {},
      "execution_count": null,
      "outputs": []
    },
    {
      "cell_type": "code",
      "source": "#7\nage=25\nprint(age)",
      "metadata": {
        "trusted": true
      },
      "execution_count": 3,
      "outputs": [
        {
          "name": "stdout",
          "text": "25\n",
          "output_type": "stream"
        }
      ]
    },
    {
      "cell_type": "code",
      "source": "#8\nprice=9.99\n#Datatype=Float\ntype(price)",
      "metadata": {
        "trusted": true
      },
      "execution_count": 4,
      "outputs": [
        {
          "execution_count": 4,
          "output_type": "execute_result",
          "data": {
            "text/plain": "float"
          },
          "metadata": {}
        }
      ]
    },
    {
      "cell_type": "code",
      "source": "#9\nname='MADHURA BASHINI'\nprint(name)",
      "metadata": {
        "trusted": true
      },
      "execution_count": 5,
      "outputs": [
        {
          "name": "stdout",
          "text": "MADHURA BASHINI\n",
          "output_type": "stream"
        }
      ]
    },
    {
      "cell_type": "code",
      "source": "#10\na= \"Hello, World!\"\na[7:12]",
      "metadata": {
        "trusted": true
      },
      "execution_count": 8,
      "outputs": [
        {
          "execution_count": 8,
          "output_type": "execute_result",
          "data": {
            "text/plain": "'World'"
          },
          "metadata": {}
        }
      ]
    },
    {
      "cell_type": "code",
      "source": "#11\nis_student=True",
      "metadata": {},
      "execution_count": null,
      "outputs": []
    }
  ]
}