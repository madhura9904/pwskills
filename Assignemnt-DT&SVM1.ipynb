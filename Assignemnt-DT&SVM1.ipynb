{
 "cells": [
  {
   "cell_type": "code",
   "execution_count": null,
   "id": "a28ab912",
   "metadata": {},
   "outputs": [],
   "source": [
    "#1\n",
    "Classifies the given data into any one of the given categories through yes or no options at each level of its nodes.\n",
    "Initially starts with any one of its features and tries to classify the the given data into any one of its categories by reaching a leaf node through yes an dno operations."
   ]
  },
  {
   "cell_type": "code",
   "execution_count": null,
   "id": "5b87befe",
   "metadata": {},
   "outputs": [],
   "source": [
    "#2\n",
    "We can use techniques like entropy/gini impurity to determine the purity/impurity of the split.\n",
    "Information gain can be used in the selection of the initial feature."
   ]
  },
  {
   "cell_type": "code",
   "execution_count": null,
   "id": "146eacc3",
   "metadata": {},
   "outputs": [],
   "source": [
    "#3\n",
    "We can use techniques like entropy/gini impurity to determine the purity/impurity of the split in a binary classification.\n",
    "Information gain can be used in the selection of the initial feature."
   ]
  },
  {
   "cell_type": "code",
   "execution_count": null,
   "id": "904351fb",
   "metadata": {},
   "outputs": [],
   "source": [
    "#4\n",
    "We can use techniques like entropy/gini impurity to determine the purity/impurity of the split.\n",
    "Information gain can be used in the selection of the initial feature."
   ]
  },
  {
   "cell_type": "code",
   "execution_count": null,
   "id": "605f3dd1",
   "metadata": {},
   "outputs": [],
   "source": [
    "#5\n",
    "A confusion matrix is a table used to evaluate the performance of a classification model by comparing the actual labels (ground truth) with the predicted labels from the model. It provides a comprehensive breakdown of the predictions made by the model."
   ]
  },
  {
   "cell_type": "code",
   "execution_count": null,
   "id": "948e9b68",
   "metadata": {},
   "outputs": [],
   "source": [
    "#6\n",
    "\n",
    "1.Accuracy:\n",
    "\n",
    "Accuracy\n",
    "=\n",
    "TP+TN/\n",
    "𝑇𝑃+𝑇𝑁+𝐹𝑃+𝐹𝑁\n",
    "\n",
    " \n",
    "It represents the overall correctness of the model.\n",
    "\n",
    "2.Precision (Positive Predictive Value):\n",
    "\n",
    "Precision= \n",
    "TP/\n",
    "TP+FP\n",
    "It measures the proportion of correctly identified positive instances out of all instances predicted as positive.\n",
    "\n",
    "\n",
    "\n",
    "3.Recall (Sensitivity or True Positive Rate):\n",
    "\n",
    "Recall\n",
    "=\n",
    "TP/TP+FN\n",
    "It measures the proportion of actual positive instances correctly identified by the model.\n",
    "\n",
    "\n",
    "4.Specificity (True Negative Rate):\n",
    "\n",
    "Specificity\n",
    "=\n",
    "𝑇𝑁/\n",
    "𝑇𝑁+𝐹𝑃\n",
    "It measures the proportion of actual negative instances correctly identified.\n",
    "\n",
    "5.F1 Score:\n",
    "\n",
    "F1 Score\n",
    "=\n",
    "2⋅Precision⋅Recall/\n",
    "Precision+Recall\n",
    "It provides a harmonic mean of precision and recall.\n",
    "\n",
    "Balanced Accuracy:\n",
    "\n",
    "Balanced Accuracy\n",
    "=\n",
    "Recall+Specificity/2\n",
    "\n",
    " \n",
    "Useful when the dataset is imbalanced."
   ]
  },
  {
   "cell_type": "code",
   "execution_count": null,
   "id": "d42f7d05",
   "metadata": {},
   "outputs": [],
   "source": [
    "#7\n",
    "Choosing an appropriate evaluation metric for a classification problem is critical because it directly influences how a model's performance is measured and optimized. The choice of metric depends on the problem's context, goals, and the nature of the"
   ]
  },
  {
   "cell_type": "code",
   "execution_count": null,
   "id": "7df485e9",
   "metadata": {},
   "outputs": [],
   "source": [
    "#8\n",
    "Scenario: Email Spam Detection\n",
    "The task is to classify emails as either spam or not spam.\n",
    "\n",
    "Positive class (spam): Emails predicted to be spam.\n",
    "Negative class (not spam): Emails predicted to be legitimate.\n",
    "Why Precision Matters\n",
    "In this scenario, precision is crucial because a false positive (FP) occurs when a legitimate email is incorrectly classified as spam. This could result in:\n",
    "\n",
    "Missed Opportunities: Important legitimate emails (e.g., from clients, job applications, or banking notifications) may be lost or overlooked if misclassified as spam.\n",
    "User Frustration: Users might lose trust in the system if they continually have to search the spam folder for legitimate messages."
   ]
  },
  {
   "cell_type": "code",
   "execution_count": null,
   "id": "6ac66d22",
   "metadata": {},
   "outputs": [],
   "source": [
    "#9\n",
    "Scenario: Cancer Detection\n",
    "The task is to classify patients as either positive (having cancer) or negative (not having cancer).\n",
    "\n",
    "Positive class: Patients diagnosed with cancer.\n",
    "Negative class: Patients diagnosed as healthy.\n",
    "Why Recall Matters\n",
    "In this scenario, recall is crucial because a false negative (FN) occurs when a patient who actually has cancer is misclassified as not having cancer. This can lead to:\n",
    "\n",
    "Delayed Treatment: Missing a cancer diagnosis may prevent timely treatment, worsening the patient’s condition and reducing the chances of survival.\n",
    "Severe Consequences: The cost of missing a true positive is far greater than the inconvenience of a false positive (FP), where a healthy person undergoes additional testing.\n",
    "By focusing on recall, the system ensures that as many actual cancer cases as possible are identified, minimizing the risk of missing any critical cases."
   ]
  }
 ],
 "metadata": {
  "kernelspec": {
   "display_name": "Python 3 (ipykernel)",
   "language": "python",
   "name": "python3"
  },
  "language_info": {
   "codemirror_mode": {
    "name": "ipython",
    "version": 3
   },
   "file_extension": ".py",
   "mimetype": "text/x-python",
   "name": "python",
   "nbconvert_exporter": "python",
   "pygments_lexer": "ipython3",
   "version": "3.11.5"
  }
 },
 "nbformat": 4,
 "nbformat_minor": 5
}
