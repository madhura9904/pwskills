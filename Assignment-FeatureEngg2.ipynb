{
 "cells": [
  {
   "cell_type": "code",
   "execution_count": null,
   "id": "ee102c35",
   "metadata": {},
   "outputs": [],
   "source": [
    "#1\n",
    "Min-max scaling:A feature scaling technique that helps to normalize data.\n",
    "                xi=min(x)/max(x)-min(x)"
   ]
  },
  {
   "cell_type": "code",
   "execution_count": null,
   "id": "7b6eca83",
   "metadata": {},
   "outputs": [],
   "source": [
    "#2\n",
    "Unit vector:A feature scaling technique that helps to transform data points to a magnitude of 1."
   ]
  },
  {
   "cell_type": "code",
   "execution_count": null,
   "id": "9ce69eae",
   "metadata": {},
   "outputs": [],
   "source": [
    "#3\n",
    "PCA:Helps in converting any dimension of data to one dimension to reduce features.\n",
    "    Ex:If no of rooms and location determine price,we find the the most important feature,select them and reduce the dimensions."
   ]
  },
  {
   "cell_type": "code",
   "execution_count": null,
   "id": "9f208c6d",
   "metadata": {},
   "outputs": [],
   "source": [
    "#4\n",
    "PCA:Helps in converting any dimension of data to one dimension to reduce features.\n",
    "    Ex:If no of rooms and location determine price,we find the the most important feature,select them and reduce the dimensions."
   ]
  },
  {
   "cell_type": "code",
   "execution_count": null,
   "id": "895c47ce",
   "metadata": {},
   "outputs": [],
   "source": [
    "#5\n",
    "We can use min-max scaling to convert all feature data points to values between 0 and 1,and recommend delivery system with sum of points more than 2."
   ]
  },
  {
   "cell_type": "code",
   "execution_count": null,
   "id": "70a233fc",
   "metadata": {},
   "outputs": [],
   "source": [
    "#6\n",
    "We can use PCA to find the feature that is highly correlated with the stock prices,ex:market trends."
   ]
  },
  {
   "cell_type": "code",
   "execution_count": 4,
   "id": "344d6589",
   "metadata": {},
   "outputs": [
    {
     "data": {
      "text/html": [
       "<style>#sk-container-id-1 {color: black;}#sk-container-id-1 pre{padding: 0;}#sk-container-id-1 div.sk-toggleable {background-color: white;}#sk-container-id-1 label.sk-toggleable__label {cursor: pointer;display: block;width: 100%;margin-bottom: 0;padding: 0.3em;box-sizing: border-box;text-align: center;}#sk-container-id-1 label.sk-toggleable__label-arrow:before {content: \"▸\";float: left;margin-right: 0.25em;color: #696969;}#sk-container-id-1 label.sk-toggleable__label-arrow:hover:before {color: black;}#sk-container-id-1 div.sk-estimator:hover label.sk-toggleable__label-arrow:before {color: black;}#sk-container-id-1 div.sk-toggleable__content {max-height: 0;max-width: 0;overflow: hidden;text-align: left;background-color: #f0f8ff;}#sk-container-id-1 div.sk-toggleable__content pre {margin: 0.2em;color: black;border-radius: 0.25em;background-color: #f0f8ff;}#sk-container-id-1 input.sk-toggleable__control:checked~div.sk-toggleable__content {max-height: 200px;max-width: 100%;overflow: auto;}#sk-container-id-1 input.sk-toggleable__control:checked~label.sk-toggleable__label-arrow:before {content: \"▾\";}#sk-container-id-1 div.sk-estimator input.sk-toggleable__control:checked~label.sk-toggleable__label {background-color: #d4ebff;}#sk-container-id-1 div.sk-label input.sk-toggleable__control:checked~label.sk-toggleable__label {background-color: #d4ebff;}#sk-container-id-1 input.sk-hidden--visually {border: 0;clip: rect(1px 1px 1px 1px);clip: rect(1px, 1px, 1px, 1px);height: 1px;margin: -1px;overflow: hidden;padding: 0;position: absolute;width: 1px;}#sk-container-id-1 div.sk-estimator {font-family: monospace;background-color: #f0f8ff;border: 1px dotted black;border-radius: 0.25em;box-sizing: border-box;margin-bottom: 0.5em;}#sk-container-id-1 div.sk-estimator:hover {background-color: #d4ebff;}#sk-container-id-1 div.sk-parallel-item::after {content: \"\";width: 100%;border-bottom: 1px solid gray;flex-grow: 1;}#sk-container-id-1 div.sk-label:hover label.sk-toggleable__label {background-color: #d4ebff;}#sk-container-id-1 div.sk-serial::before {content: \"\";position: absolute;border-left: 1px solid gray;box-sizing: border-box;top: 0;bottom: 0;left: 50%;z-index: 0;}#sk-container-id-1 div.sk-serial {display: flex;flex-direction: column;align-items: center;background-color: white;padding-right: 0.2em;padding-left: 0.2em;position: relative;}#sk-container-id-1 div.sk-item {position: relative;z-index: 1;}#sk-container-id-1 div.sk-parallel {display: flex;align-items: stretch;justify-content: center;background-color: white;position: relative;}#sk-container-id-1 div.sk-item::before, #sk-container-id-1 div.sk-parallel-item::before {content: \"\";position: absolute;border-left: 1px solid gray;box-sizing: border-box;top: 0;bottom: 0;left: 50%;z-index: -1;}#sk-container-id-1 div.sk-parallel-item {display: flex;flex-direction: column;z-index: 1;position: relative;background-color: white;}#sk-container-id-1 div.sk-parallel-item:first-child::after {align-self: flex-end;width: 50%;}#sk-container-id-1 div.sk-parallel-item:last-child::after {align-self: flex-start;width: 50%;}#sk-container-id-1 div.sk-parallel-item:only-child::after {width: 0;}#sk-container-id-1 div.sk-dashed-wrapped {border: 1px dashed gray;margin: 0 0.4em 0.5em 0.4em;box-sizing: border-box;padding-bottom: 0.4em;background-color: white;}#sk-container-id-1 div.sk-label label {font-family: monospace;font-weight: bold;display: inline-block;line-height: 1.2em;}#sk-container-id-1 div.sk-label-container {text-align: center;}#sk-container-id-1 div.sk-container {/* jupyter's `normalize.less` sets `[hidden] { display: none; }` but bootstrap.min.css set `[hidden] { display: none !important; }` so we also need the `!important` here to be able to override the default hidden behavior on the sphinx rendered scikit-learn.org. See: https://github.com/scikit-learn/scikit-learn/issues/21755 */display: inline-block !important;position: relative;}#sk-container-id-1 div.sk-text-repr-fallback {display: none;}</style><div id=\"sk-container-id-1\" class=\"sk-top-container\"><div class=\"sk-text-repr-fallback\"><pre>MinMaxScaler()</pre><b>In a Jupyter environment, please rerun this cell to show the HTML representation or trust the notebook. <br />On GitHub, the HTML representation is unable to render, please try loading this page with nbviewer.org.</b></div><div class=\"sk-container\" hidden><div class=\"sk-item\"><div class=\"sk-estimator sk-toggleable\"><input class=\"sk-toggleable__control sk-hidden--visually\" id=\"sk-estimator-id-1\" type=\"checkbox\" checked><label for=\"sk-estimator-id-1\" class=\"sk-toggleable__label sk-toggleable__label-arrow\">MinMaxScaler</label><div class=\"sk-toggleable__content\"><pre>MinMaxScaler()</pre></div></div></div></div></div>"
      ],
      "text/plain": [
       "MinMaxScaler()"
      ]
     },
     "execution_count": 4,
     "metadata": {},
     "output_type": "execute_result"
    }
   ],
   "source": [
    "#7\n",
    "arr=[[1, 5, 10, 15, 20]]\n",
    "from sklearn.preprocessing import MinMaxScaler\n",
    "min_max=MinMaxScaler()\n",
    "min_max.fit(arr)"
   ]
  },
  {
   "cell_type": "code",
   "execution_count": 5,
   "id": "9f4c4cdc",
   "metadata": {},
   "outputs": [
    {
     "data": {
      "text/plain": [
       "array([[0., 0., 0., 0., 0.]])"
      ]
     },
     "execution_count": 5,
     "metadata": {},
     "output_type": "execute_result"
    }
   ],
   "source": [
    "min_max.transform(arr)"
   ]
  },
  {
   "cell_type": "code",
   "execution_count": null,
   "id": "b96c76e8",
   "metadata": {},
   "outputs": [],
   "source": [
    "#8\n",
    "1. Standardizing the Data\n",
    "dataset must be standardized (e.g., using z-scores) so that all features contribute equally regardless of their units.\n",
    "\n",
    "2. Compute Principal Components\n",
    "PCA calculates principal components \n",
    "\n",
    "3. Explained Variance Ratio\n",
    "Each principal component explains a portion of the dataset's total variance. The explained variance ratio helps decide how many components to retain:\n",
    "\n",
    "Calculate the cumulative explained variance ratio.\n",
    "Retain components that together explain a high percentage (commonly 90-95%) of the variance.\n",
    "Feature Analysis\n",
    "Your dataset contains the following features:\n",
    "\n",
    "Height, Weight, and Age are numerical.\n",
    "Gender is categorical (likely needs encoding, e.g., 0 for Male, 1 for Female).\n",
    "Blood Pressure is numerical.\n",
    "After preprocessing (scaling and encoding), the dataset will have 5 numerical columns.\n",
    "\n",
    "Retaining Principal Components\n",
    "Step 1: Perform PCA and compute the explained variance ratio for each principal component. For example:\n",
    "\n",
    "PC1 explains 60% of the variance.\n",
    "PC2 explains 25% of the variance.\n",
    "PC3 explains 10% of the variance.\n",
    "PC4 explains 4% of the variance.\n",
    "PC5 explains 1% of the variance.\n",
    "Step 2: Determine the cumulative explained variance:\n",
    "\n",
    "PC1: 60%\n",
    "PC1 + PC2: 85%\n",
    "PC1 + PC2 + PC3: 95%\n",
    "Step 3: Choose components that explain at least 90% of the variance. In this example, you would retain 3 components (PC1, PC2, and PC3) because they collectively explain 95% of the variance.\n",
    "\n",
    "\n",
    "\n",
    "I would choose to retain 3 components to reduce the dimensions."
   ]
  }
 ],
 "metadata": {
  "kernelspec": {
   "display_name": "Python 3 (ipykernel)",
   "language": "python",
   "name": "python3"
  },
  "language_info": {
   "codemirror_mode": {
    "name": "ipython",
    "version": 3
   },
   "file_extension": ".py",
   "mimetype": "text/x-python",
   "name": "python",
   "nbconvert_exporter": "python",
   "pygments_lexer": "ipython3",
   "version": "3.11.5"
  }
 },
 "nbformat": 4,
 "nbformat_minor": 5
}
