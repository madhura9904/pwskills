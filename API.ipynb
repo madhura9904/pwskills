{
 "cells": [
  {
   "cell_type": "code",
   "execution_count": null,
   "id": "ebb45b52",
   "metadata": {},
   "outputs": [],
   "source": [
    "API:Application Programming Interface\n",
    "    This is a set of rules/protocols helps in the linking or communication of many different  networks/software applications that is formed of different programming languages\n",
    "    and is found in different domains.\n",
    "    Ex:Using GPay links Google and our bank iinterface."
   ]
  },
  {
   "cell_type": "code",
   "execution_count": null,
   "id": "77a7c2e1",
   "metadata": {},
   "outputs": [],
   "source": [
    "Advantages: \n",
    "    Helps in the efficient linking of different interfaces.\n",
    "Disadvantages:\n",
    "     If the API experiences downtime or disruptions, it can negatively impact your application's performance and user experience."
   ]
  },
  {
   "cell_type": "code",
   "execution_count": null,
   "id": "1cac7ee2",
   "metadata": {},
   "outputs": [],
   "source": [
    "Web API allows a web browser and web server to communicate.\n",
    "API allows many different software applications to communicate and function."
   ]
  },
  {
   "cell_type": "code",
   "execution_count": null,
   "id": "10560425",
   "metadata": {},
   "outputs": [],
   "source": [
    "REST:Involves http;Scalable,flexible and simple.\n",
    "SOAP:It is slow and not very flexible."
   ]
  },
  {
   "cell_type": "code",
   "execution_count": null,
   "id": "04a56c56",
   "metadata": {},
   "outputs": [],
   "source": [
    "REST:Involves http;Scalable,flexible and simple.\n",
    "SOAP:It is slow and not very flexible.Ex:TCP"
   ]
  }
 ],
 "metadata": {
  "kernelspec": {
   "display_name": "Python 3 (ipykernel)",
   "language": "python",
   "name": "python3"
  },
  "language_info": {
   "codemirror_mode": {
    "name": "ipython",
    "version": 3
   },
   "file_extension": ".py",
   "mimetype": "text/x-python",
   "name": "python",
   "nbconvert_exporter": "python",
   "pygments_lexer": "ipython3",
   "version": "3.11.5"
  }
 },
 "nbformat": 4,
 "nbformat_minor": 5
}
