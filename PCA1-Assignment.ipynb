{
 "cells": [
  {
   "cell_type": "code",
   "execution_count": null,
   "id": "ab343289",
   "metadata": {},
   "outputs": [],
   "source": [
    "#1\n",
    "Curse of dimensionality occurs when a huge amount of features brings down the accuracy of the model due to overfitting."
   ]
  },
  {
   "cell_type": "code",
   "execution_count": null,
   "id": "bbb32501",
   "metadata": {},
   "outputs": [],
   "source": [
    "#2\n",
    "It brings down the performance of the model by overfitting."
   ]
  },
  {
   "cell_type": "code",
   "execution_count": null,
   "id": "58a355ae",
   "metadata": {},
   "outputs": [],
   "source": [
    "#3\n",
    "Curse of dimensionality occurs when a huge amount of features brings down the accuracy of the model due to overfitting."
   ]
  },
  {
   "cell_type": "code",
   "execution_count": null,
   "id": "abdfe9f6",
   "metadata": {},
   "outputs": [],
   "source": [
    "#4\n",
    "Feature selection helps to select only the most important features among a huge amount of features and therefore reduce the curse of \n",
    "dimensionality and increase the performance of the model."
   ]
  },
  {
   "cell_type": "code",
   "execution_count": null,
   "id": "d10e6738",
   "metadata": {},
   "outputs": [],
   "source": [
    "#5\n",
    "Dimensionality techniques may lead to loss of data and sometimes lead to selection of less important features."
   ]
  },
  {
   "cell_type": "code",
   "execution_count": null,
   "id": "7b42b1cf",
   "metadata": {},
   "outputs": [],
   "source": [
    "#6\n",
    "When there are too many dimensions or features, the training of the dataset will be done very perfectly which can never be matched\n",
    "by any testing models and therefore leading to low accuracy."
   ]
  },
  {
   "cell_type": "code",
   "execution_count": null,
   "id": "e3f53999",
   "metadata": {},
   "outputs": [],
   "source": [
    "#7\n",
    "They can do so by the help of PCA,where we find the eigen values and eigen vectors and use them to determine the no of important features."
   ]
  }
 ],
 "metadata": {
  "kernelspec": {
   "display_name": "Python 3 (ipykernel)",
   "language": "python",
   "name": "python3"
  },
  "language_info": {
   "codemirror_mode": {
    "name": "ipython",
    "version": 3
   },
   "file_extension": ".py",
   "mimetype": "text/x-python",
   "name": "python",
   "nbconvert_exporter": "python",
   "pygments_lexer": "ipython3",
   "version": "3.11.5"
  }
 },
 "nbformat": 4,
 "nbformat_minor": 5
}
