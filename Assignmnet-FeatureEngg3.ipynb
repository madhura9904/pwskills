{
 "cells": [
  {
   "cell_type": "code",
   "execution_count": null,
   "id": "1919efd6",
   "metadata": {},
   "outputs": [],
   "source": [
    "#1\n",
    "Data Encoding: Process of converting categorical data to numerical data,so that useful to be studied in data science."
   ]
  },
  {
   "cell_type": "code",
   "execution_count": null,
   "id": "b18b7c7c",
   "metadata": {},
   "outputs": [],
   "source": [
    "#2\n",
    "each category is represented as a binary vector where each bit corresponds to a unique category. \n",
    "For example, if we have a categorical variable \"color\" with three possible values (red, green, blue), we can represent it using one hot encoding as follows:\n",
    "\n",
    "1. Red: [1, 0, 0]\n",
    "2. Green: [0, 1, 0]\n",
    "3. Blue: [0, 0, 1]"
   ]
  },
  {
   "cell_type": "code",
   "execution_count": null,
   "id": "42502ce9",
   "metadata": {},
   "outputs": [],
   "source": [
    "#3\n",
    "Nominal encoding: Used when there is an inherent ordering;Ex:small=1,medium=2,large=3.\n",
    "One Hot Encoding: Used when there is no ordering.Ex:Colors"
   ]
  },
  {
   "cell_type": "code",
   "execution_count": null,
   "id": "0d93d273",
   "metadata": {},
   "outputs": [],
   "source": [
    "#4\n",
    "I would use One Hot encoding because there is no ordering or ranking or frequency."
   ]
  },
  {
   "cell_type": "code",
   "execution_count": null,
   "id": "dce1e71d",
   "metadata": {},
   "outputs": [],
   "source": [
    "#5\n",
    "The number of new columns created would correspond to the number of categories in the column to be transformed."
   ]
  },
  {
   "cell_type": "code",
   "execution_count": null,
   "id": "dee9f1cb",
   "metadata": {},
   "outputs": [],
   "source": [
    "#6\n",
    "Encoding:\n",
    "        Nominal/OHE:Assign binary vectors to the various components of category\n",
    "        Label Encoding:Assign numerical values to the components.\n",
    "        Ordinal Encoding:Assign ranks based on ordering."
   ]
  },
  {
   "cell_type": "code",
   "execution_count": null,
   "id": "fcfe85df",
   "metadata": {},
   "outputs": [],
   "source": [
    "#7\n",
    "Encoding:\n",
    "        Nominal/OHE:Assign binary vectors to the various components of category:Contract type\n",
    "        Label Encoding:Assign numerical values to the components:Gender,Tenure\n",
    "        Ordinal Encoding:Assign ranks based on ordering:Monthlycharges"
   ]
  }
 ],
 "metadata": {
  "kernelspec": {
   "display_name": "Python 3 (ipykernel)",
   "language": "python",
   "name": "python3"
  },
  "language_info": {
   "codemirror_mode": {
    "name": "ipython",
    "version": 3
   },
   "file_extension": ".py",
   "mimetype": "text/x-python",
   "name": "python",
   "nbconvert_exporter": "python",
   "pygments_lexer": "ipython3",
   "version": "3.11.5"
  }
 },
 "nbformat": 4,
 "nbformat_minor": 5
}
