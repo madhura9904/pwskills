{
 "cells": [
  {
   "cell_type": "code",
   "execution_count": 9,
   "id": "f31cefd1",
   "metadata": {},
   "outputs": [
    {
     "data": {
      "text/plain": [
       "'[1]MEASURES OF CENTRAL TENDENCY:\\n(Used in Exploratory data analysis & Feature Engineering)\\n>Mean\\n>Median\\n>Mode\\n\\n[2]Measure of central tendency:\\nMean:Describes the average of data\\nMedian:Gives the mid-value of data\\nMode:Gives us the most frequented value'"
      ]
     },
     "execution_count": 9,
     "metadata": {},
     "output_type": "execute_result"
    }
   ],
   "source": [
    "'''[1]MEASURES OF CENTRAL TENDENCY:\n",
    "(Used in Exploratory data analysis & Feature Engineering)\n",
    ">Mean\n",
    ">Median\n",
    ">Mode\n",
    "\n",
    "[2]Measure of central tendency:\n",
    "Mean:Describes the average of data\n",
    "Median:Gives the mid-value of data\n",
    "Mode:Gives us the most frequented value'''\n",
    "\n"
   ]
  },
  {
   "cell_type": "code",
   "execution_count": 15,
   "id": "58495b51",
   "metadata": {},
   "outputs": [
    {
     "name": "stdout",
     "output_type": "stream",
     "text": [
      "Mean: 177.01875\n",
      "Median: 177.0\n",
      "Mode: ModeResult(mode=177.0, count=3)\n"
     ]
    }
   ],
   "source": [
    "import numpy as np\n",
    "arr=[178,177,176,177,178.2,178,175,179,180,175,178.9,176.2,177,172.5,178,176.5]\n",
    "lst=np.array(arr)\n",
    "mean=np.mean(lst)\n",
    "print('Mean:',mean)\n",
    "median=np.median(lst)\n",
    "print('Median:',median)\n",
    "from scipy import stats\n",
    "mode=stats.mode(lst)\n",
    "print('Mode:',mode)"
   ]
  },
  {
   "cell_type": "code",
   "execution_count": 16,
   "id": "90dd6b5b",
   "metadata": {},
   "outputs": [
    {
     "name": "stdout",
     "output_type": "stream",
     "text": [
      "Std: 1.7885814036548633\n"
     ]
    }
   ],
   "source": [
    "#4\n",
    "lst= [178,177,176,177,178.2,178,175,179,180,175,178.9,176.2,177,172.5,178,176.5]\n",
    "import numpy as np\n",
    "std=np.std(lst)\n",
    "print('Std:',std)"
   ]
  },
  {
   "cell_type": "code",
   "execution_count": null,
   "id": "af53cb54",
   "metadata": {},
   "outputs": [],
   "source": [
    "#5\n",
    "They give the spread of a data as to how far the values are spread from mean.More var more spread."
   ]
  },
  {
   "cell_type": "code",
   "execution_count": null,
   "id": "50f97aca",
   "metadata": {},
   "outputs": [],
   "source": [
    "#6\n",
    "Venn diagram is used to represent sets and perform binary op on them."
   ]
  },
  {
   "cell_type": "code",
   "execution_count": null,
   "id": "8b8ff56d",
   "metadata": {},
   "outputs": [],
   "source": [
    "#7\n",
    "[i]2,6\n",
    "[ii]0,2,3,4,5,6,7,8,10"
   ]
  },
  {
   "cell_type": "code",
   "execution_count": null,
   "id": "fe4b94c2",
   "metadata": {},
   "outputs": [],
   "source": [
    "#8\n",
    "#Skewness is the measure of asymmetry of data."
   ]
  },
  {
   "cell_type": "code",
   "execution_count": null,
   "id": "5d06015c",
   "metadata": {},
   "outputs": [],
   "source": [
    "#9\n",
    "Median lesser than mean;median<mean"
   ]
  },
  {
   "cell_type": "code",
   "execution_count": null,
   "id": "226223f5",
   "metadata": {},
   "outputs": [],
   "source": [
    "#10\n",
    "COVARIANCE(X,Y):Summation(xi-xbar)(yi-ybar)/n-1\n",
    ">Variance=Cov(X,X)-Spread of data\n",
    "\n",
    "\n",
    "Corelation:Relation between 2 variables\n",
    "PEARSON CORELATION COEFFCIENT:cov(x,y)/std(x).std(y)\n",
    ">Limited from -1 to 1\n",
    ">More val towards 1 more corelated\n",
    ">More val towards -1 more neg corelated\n",
    "\n",
    "Applications:\n",
    ">House and price-Feature selection\n",
    "\n",
    "Spearman rank relation:(Better than pearson)\n",
    "rs=cov((R(x),R(y)))/std(R(x)).std(R(y))"
   ]
  },
  {
   "cell_type": "code",
   "execution_count": null,
   "id": "7cfc5d1f",
   "metadata": {},
   "outputs": [],
   "source": [
    "#11\n",
    "Mean=Summation of values/Number of values\n",
    "lst=[1,2,3,4,5]\n",
    "mean=15/5=3"
   ]
  },
  {
   "cell_type": "code",
   "execution_count": null,
   "id": "caba0074",
   "metadata": {},
   "outputs": [],
   "source": [
    "#12\n",
    "All measure of central tendency lie exactly at the middle"
   ]
  },
  {
   "cell_type": "code",
   "execution_count": null,
   "id": "d558eacc",
   "metadata": {},
   "outputs": [],
   "source": [
    "#13\n",
    "Corelation is the measure of relation between two variables.\n",
    "Covariance is spread of data with respect to 2 variables"
   ]
  },
  {
   "cell_type": "code",
   "execution_count": null,
   "id": "77316627",
   "metadata": {},
   "outputs": [],
   "source": [
    "#14\n",
    "Median,Variance,Mode=Not affected\n",
    "Mean=Affected"
   ]
  }
 ],
 "metadata": {
  "kernelspec": {
   "display_name": "Python 3 (ipykernel)",
   "language": "python",
   "name": "python3"
  },
  "language_info": {
   "codemirror_mode": {
    "name": "ipython",
    "version": 3
   },
   "file_extension": ".py",
   "mimetype": "text/x-python",
   "name": "python",
   "nbconvert_exporter": "python",
   "pygments_lexer": "ipython3",
   "version": "3.11.5"
  }
 },
 "nbformat": 4,
 "nbformat_minor": 5
}
