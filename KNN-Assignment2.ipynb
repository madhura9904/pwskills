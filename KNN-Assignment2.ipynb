{
 "cells": [
  {
   "cell_type": "code",
   "execution_count": null,
   "id": "c1f6eb6e",
   "metadata": {},
   "outputs": [],
   "source": [
    "#1\n",
    "Euclidean distance:sqrt(x^2 + y^2)\n",
    "Manhattan distance:Distance computed not using the hypotenuse,but using the other two sides.\n",
    "\n",
    "Euclidean distance maybe used when there is a linear relationship,whereas manhattan distance used where distance is calculated through\n",
    "not the hypotenuse,but the other sides."
   ]
  },
  {
   "cell_type": "code",
   "execution_count": null,
   "id": "c97543c8",
   "metadata": {},
   "outputs": [],
   "source": [
    "#2\n",
    "KD Tree and Ball tree can be used k such that accuracy of the model is high."
   ]
  },
  {
   "cell_type": "code",
   "execution_count": null,
   "id": "371aaeb3",
   "metadata": {},
   "outputs": [],
   "source": [
    "#3\n",
    "Euclidean distance:sqrt(x^2 + y^2)\n",
    "Manhattan distance:Distance computed not using the hypotenuse,but using the other two sides.\n",
    "\n",
    "Euclidean distance maybe used when there is a linear relationship,whereas manhattan distance used where distance is calculated through\n",
    "not the hypotenuse,but the other sides."
   ]
  },
  {
   "cell_type": "code",
   "execution_count": null,
   "id": "ab9cf43f",
   "metadata": {},
   "outputs": [],
   "source": [
    "#4\n",
    "k is the hyperparameter used here,which can be fine tuned using KD Tree and Ball tree."
   ]
  },
  {
   "cell_type": "code",
   "execution_count": null,
   "id": "6a02f81b",
   "metadata": {},
   "outputs": [],
   "source": [
    "#5\n",
    "Small data:Leads to overfitting\n",
    "Large data:Leads to better performance of the data."
   ]
  },
  {
   "cell_type": "code",
   "execution_count": null,
   "id": "eea3acaf",
   "metadata": {},
   "outputs": [],
   "source": [
    "#6\n",
    "It is computationally expensive to select the k value. \n",
    "Therefore to optimize the model to select the k value corrsponding to the most accurate prediction we use kd tree/ball tree."
   ]
  }
 ],
 "metadata": {
  "kernelspec": {
   "display_name": "Python 3 (ipykernel)",
   "language": "python",
   "name": "python3"
  },
  "language_info": {
   "codemirror_mode": {
    "name": "ipython",
    "version": 3
   },
   "file_extension": ".py",
   "mimetype": "text/x-python",
   "name": "python",
   "nbconvert_exporter": "python",
   "pygments_lexer": "ipython3",
   "version": "3.11.5"
  }
 },
 "nbformat": 4,
 "nbformat_minor": 5
}
