{
 "cells": [
  {
   "cell_type": "code",
   "execution_count": 1,
   "id": "f1873b1f",
   "metadata": {},
   "outputs": [],
   "source": [
    "#1\n",
    "#cLass is a basic structure or template for a single type of variable or methods\n",
    "#We assign a class to a object which is one specific type of object\n",
    "class student_det:\n",
    "    def __init__(self,name,age,grade):\n",
    "        self.name=name\n",
    "        self.age=age\n",
    "        self.grade=grade\n",
    "details=student_det('John',15,8)\n",
    "details.name\n",
    "details.age\n",
    "details.grade"
   ]
  },
  {
   "cell_type": "code",
   "execution_count": 5,
   "id": "3d234018",
   "metadata": {},
   "outputs": [],
   "source": [
    "#2\n",
    "#4 pillars of oops:abstraction, encapsulation, inheritance, and polymorphism\n"
   ]
  },
  {
   "cell_type": "code",
   "execution_count": 6,
   "id": "124bd79b",
   "metadata": {},
   "outputs": [
    {
     "data": {
      "text/plain": [
       "40"
      ]
     },
     "execution_count": 6,
     "metadata": {},
     "output_type": "execute_result"
    }
   ],
   "source": [
    "#3\n",
    "#init function is an Object or a method to pass data obtained from user to class \n",
    "class marks:\n",
    "    def __init__(self,marks):\n",
    "        self.marks=marks\n",
    "m=marks(40)\n",
    "m.marks"
   ]
  },
  {
   "cell_type": "code",
   "execution_count": 7,
   "id": "b4ac9ec6",
   "metadata": {},
   "outputs": [],
   "source": [
    "#Self is used to refer to the attributes and methods of a given class "
   ]
  },
  {
   "cell_type": "code",
   "execution_count": 19,
   "id": "87274c24",
   "metadata": {},
   "outputs": [
    {
     "data": {
      "text/plain": [
       "<function __main__.c1.tc1(self)>"
      ]
     },
     "execution_count": 19,
     "metadata": {},
     "output_type": "execute_result"
    }
   ],
   "source": [
    "#Inheritance:\n",
    "#It is one of the pillars of oops where the attributes of the parent class is inherited by the child class when the parent class is called.\n",
    "#c1 called in c2,c2 called by c3\n",
    "#Multilabel Inheritance:c3 contains all 2 classes\n",
    "class c1:\n",
    "    def tc1(self):\n",
    "        print('Hi')\n",
    "        \n",
    "class c2(c1):\n",
    "    def tc2(self):\n",
    "        print('Hello')\n",
    "\n",
    "class c3(c2):\n",
    "    def tc3(self):\n",
    "        print('Welcome')\n",
    "obj=c3\n",
    "c3.tc1\n",
    "##c1+c2=c3\n",
    "#Multiple inheritance:Access both classes in c3\n",
    "class c1:\n",
    "    def tc1(self):\n",
    "        print('Hi')\n",
    "        \n",
    "class c2:\n",
    "    def tc2(self):\n",
    "        print('Hi2')\n",
    "\n",
    "class c3(c1,c2):\n",
    "    pass"
   ]
  },
  {
   "cell_type": "code",
   "execution_count": null,
   "id": "1e345c5a",
   "metadata": {},
   "outputs": [],
   "source": []
  }
 ],
 "metadata": {
  "kernelspec": {
   "display_name": "Python 3 (ipykernel)",
   "language": "python",
   "name": "python3"
  },
  "language_info": {
   "codemirror_mode": {
    "name": "ipython",
    "version": 3
   },
   "file_extension": ".py",
   "mimetype": "text/x-python",
   "name": "python",
   "nbconvert_exporter": "python",
   "pygments_lexer": "ipython3",
   "version": "3.11.5"
  }
 },
 "nbformat": 4,
 "nbformat_minor": 5
}
