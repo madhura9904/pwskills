{
 "cells": [
  {
   "cell_type": "code",
   "execution_count": null,
   "id": "28c1d094",
   "metadata": {},
   "outputs": [],
   "source": [
    "[1]PDF:\n",
    ">Gradient descent of cummulative density function\n",
    ">Distribution of continuous data\n",
    ">Ex:Height of students in class\n",
    "    \n",
    "PMF:\n",
    ">Distribution of discrete data\n",
    ">Ex:Tossing coin"
   ]
  },
  {
   "cell_type": "code",
   "execution_count": null,
   "id": "9fd5c6c6",
   "metadata": {},
   "outputs": [],
   "source": [
    "[2]Cumulative Distribution:\n",
    ">Plots the cummulation/summation of values upto a particular point\n",
    ">Ex:Probability of a no while rolling a die;probability of getting less than 4 can be obtained from cdf"
   ]
  },
  {
   "cell_type": "code",
   "execution_count": null,
   "id": "ff8d651a",
   "metadata": {},
   "outputs": [],
   "source": [
    "[3]Normal/Gaussian Dist:\n",
    ">Symmetric distribution\n",
    ">Bell-shaped curve\n",
    ">Empirical formula:68-95-99.7------In the bell curve 68 per of data falls in first reg(mu + and - sigma)and so on....\n",
    ">Identify normal dist-QQ plot\n",
    ">When experiment has continuous data"
   ]
  },
  {
   "cell_type": "code",
   "execution_count": null,
   "id": "13625b91",
   "metadata": {},
   "outputs": [],
   "source": [
    "[4]>Helps to plot continuous data\n",
    ">represent real-valued random variables whose distributions are not known to us.\n",
    ">Ex:Amount of rainfall"
   ]
  },
  {
   "cell_type": "code",
   "execution_count": null,
   "id": "e5354e6c",
   "metadata": {},
   "outputs": [],
   "source": [
    "[5]Bernoulli Dist:\n",
    ">Discrete probability distribution\n",
    ">Takes 1 with prob p and val 0 with q=1-p\n",
    ">Model for set of possible outcomes of any single exp that asks yes/no ques.\n",
    ">P(x=k)=p^x.(1-p)^1-k\n",
    ">Mean:E(k)=p\n",
    ">Median=0 if p<1/2;[0,1] if p=1/2;1 if p>1/2\n",
    ">Var and std=pq and root of pq\n",
    "\n",
    "Bernoulli deals with the outcome of the single trial of the event, whereas Binomial deals with the outcome of the multiple trials of the single event."
   ]
  },
  {
   "cell_type": "code",
   "execution_count": null,
   "id": "4bafde0f",
   "metadata": {},
   "outputs": [],
   "source": [
    "[6]z-score=(xbar-mu/s)\n",
    "=(60-50)/10=0.1\n",
    "P(X>0.1)=1-P(X<0.1)=1-0.5398=0.4602\n"
   ]
  },
  {
   "cell_type": "code",
   "execution_count": null,
   "id": "29af708d",
   "metadata": {},
   "outputs": [],
   "source": [
    "[7]Uniform Dist:\n",
    ">2 types:Cont and discrete\n",
    "\n",
    "Continous Uniform Distribution/Rectangular dist:\n",
    ">Family of symmetric PD\n",
    ">Describes an experiment where there is an arbitary outcome that lies between certain bounds\n",
    ">Interval can be closed or open\n",
    ">PDF= 1/b-a   for x belong [a,b]\n",
    "      0,ew\n",
    ">CDF=0 for x<a\n",
    "     x-a/b-a  for x belong [a,b]\n",
    "     1 for x>b\n",
    "\n",
    ">Mean,Median=a+b/2;Median=(b-a)^2/12\n",
    ">Ex:No of candies sold at a shop follows uni dis with min 10 and max 40\n",
    "\n",
    "Discrete Uniform Distribution:\n",
    ">A finite no of values are equally likely to be observed\n",
    ">Equal prob:1/n\n",
    ">Mean,Median:a+b/2\n"
   ]
  },
  {
   "cell_type": "code",
   "execution_count": null,
   "id": "940b49ec",
   "metadata": {},
   "outputs": [],
   "source": [
    "[8]>Z-score helps in standardisation of any experiment where data has mean 0 and std=1\n",
    ">This makes data analysis and inference easy."
   ]
  },
  {
   "cell_type": "code",
   "execution_count": null,
   "id": "f91e5ef2",
   "metadata": {},
   "outputs": [],
   "source": [
    "[9],[10]CLT:\n",
    ">Relies on sampling distribution,which is the probability distribution of statistic for a large no of samples taken from a samples.\n",
    ">Sampling distribution of mean will always be normally distributed.\n",
    ">Regardless of if pop has poisson,binomial distribution the sampling distribution of mean will be normal.\n"
   ]
  }
 ],
 "metadata": {
  "kernelspec": {
   "display_name": "Python 3 (ipykernel)",
   "language": "python",
   "name": "python3"
  },
  "language_info": {
   "codemirror_mode": {
    "name": "ipython",
    "version": 3
   },
   "file_extension": ".py",
   "mimetype": "text/x-python",
   "name": "python",
   "nbconvert_exporter": "python",
   "pygments_lexer": "ipython3",
   "version": "3.11.5"
  }
 },
 "nbformat": 4,
 "nbformat_minor": 5
}
