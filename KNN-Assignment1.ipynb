{
 "cells": [
  {
   "cell_type": "code",
   "execution_count": null,
   "id": "44ea4083",
   "metadata": {},
   "outputs": [],
   "source": [
    "#1\n",
    "KNN algorithm is a ML algorithm that is used to predict values using the points that are of the shortest distance from the training data point corresponding to the test data point."
   ]
  },
  {
   "cell_type": "code",
   "execution_count": null,
   "id": "b34d583c",
   "metadata": {},
   "outputs": [],
   "source": [
    "#2\n",
    "K can be any positive value such that the accuracy of the model is higher."
   ]
  },
  {
   "cell_type": "code",
   "execution_count": null,
   "id": "08b411ba",
   "metadata": {},
   "outputs": [],
   "source": [
    "#3\n",
    "KNN classifier is used to classify the data points into either two of the categories of a binary data.\n",
    "KNN regressor is used in predicition of op data points for the given input data."
   ]
  },
  {
   "cell_type": "code",
   "execution_count": null,
   "id": "70026de4",
   "metadata": {},
   "outputs": [],
   "source": [
    "#4\n",
    "By using accuracy score of the sklearn mtrics."
   ]
  },
  {
   "cell_type": "code",
   "execution_count": null,
   "id": "7d9687be",
   "metadata": {},
   "outputs": [],
   "source": [
    "#5\n",
    "As dimensionality/features increases, the accuracy of the trained model decreases."
   ]
  },
  {
   "cell_type": "code",
   "execution_count": null,
   "id": "d18b6257",
   "metadata": {},
   "outputs": [],
   "source": [
    "#6\n",
    "Missing values can be handled by imputation."
   ]
  },
  {
   "cell_type": "code",
   "execution_count": null,
   "id": "88ba9c27",
   "metadata": {},
   "outputs": [],
   "source": [
    "#7\n",
    "Classifier is used for datasets with categorical binary output to classify the data into any one of the categories.Ex:Gender,yes/no\n",
    "Regressor is used for other datasets with numerical data to predict output for given input."
   ]
  },
  {
   "cell_type": "code",
   "execution_count": null,
   "id": "a62b9ddf",
   "metadata": {},
   "outputs": [],
   "source": [
    "#8\n",
    "Strengths:It is easier and more efficient to simply find the point with the shortest distance from the point to be predicted.\n",
    "Weakness: It is computationally expensive to compute the k value."
   ]
  },
  {
   "cell_type": "code",
   "execution_count": null,
   "id": "3f07780a",
   "metadata": {},
   "outputs": [],
   "source": [
    "#9\n",
    "Euclidean distance:sqrt(x^2 + y^2)\n",
    "Manhattan distance:Distance computed not using the hypotenuse,but using the other two sides."
   ]
  },
  {
   "cell_type": "code",
   "execution_count": null,
   "id": "8c04dbe5",
   "metadata": {},
   "outputs": [],
   "source": [
    "#10\n",
    "Feature scaling is used to eliminate the curse of dimensionality using:\n",
    "    Feature extraction\n",
    "    Feature Selection"
   ]
  }
 ],
 "metadata": {
  "kernelspec": {
   "display_name": "Python 3 (ipykernel)",
   "language": "python",
   "name": "python3"
  },
  "language_info": {
   "codemirror_mode": {
    "name": "ipython",
    "version": 3
   },
   "file_extension": ".py",
   "mimetype": "text/x-python",
   "name": "python",
   "nbconvert_exporter": "python",
   "pygments_lexer": "ipython3",
   "version": "3.11.5"
  }
 },
 "nbformat": 4,
 "nbformat_minor": 5
}
