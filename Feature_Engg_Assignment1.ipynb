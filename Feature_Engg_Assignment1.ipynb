{
 "cells": [
  {
   "cell_type": "code",
   "execution_count": null,
   "id": "6446d8ac",
   "metadata": {},
   "outputs": [],
   "source": [
    "#1\n",
    "Missing values are components of a dataset that do not enclose any value in themselves or has a null value.\n",
    "\n",
    "Missing values in our data may lead to inaccurate and inefficient results.This may cause biasness,improper working of ml models,variability,reduction in sample size.\n",
    "\n",
    "K-nearest and Naive Bayes do not mind missing values."
   ]
  },
  {
   "cell_type": "code",
   "execution_count": null,
   "id": "c32f4547",
   "metadata": {},
   "outputs": [],
   "source": [
    "#2-Techniques to handle missing data\n",
    "\n",
    "import numpy as np\n",
    "import pandas as pd\n",
    "\n",
    "# Set the random seed for reproducibility\n",
    "np.random.seed(123)\n",
    "\n",
    "# Create a dataframe with two classes\n",
    "n_samples = 1000\n",
    "class_0_ratio = 0.9#Ninety percent\n",
    "n_class_0 = int(n_samples * class_0_ratio)#900\n",
    "n_class_1 = n_samples - n_class_0\n",
    "\n",
    "class_0 = pd.DataFrame({\n",
    "    'feature_1': np.random.normal(loc=0, scale=1, size=n_class_0),\n",
    "    'feature_2': np.random.normal(loc=0, scale=1, size=n_class_0),\n",
    "    'target': [0] * n_class_0\n",
    "})\n",
    "\n",
    "class_1 = pd.DataFrame({\n",
    "    'feature_1': np.random.normal(loc=2, scale=1, size=n_class_1),\n",
    "    'feature_2': np.random.normal(loc=2, scale=1, size=n_class_1),\n",
    "    'target': [1] * n_class_1\n",
    "})\n",
    "\n",
    "df=pd.concat([class_0,class_1]).reset_index(drop=True)\n",
    "\n",
    "#Upsampling\n",
    "df_minority=df[df['target']==1]\n",
    "df_majority=df[df['target']==0]\n",
    "\n",
    "from sklearn.utils import resample\n",
    "#resample-Extrapolates the points-Create more minority to balance\n",
    "df_minority_upsampled=resample(df_minority,replace=True, #Sample With replacement\n",
    "         n_samples=len(df_majority),\n",
    "         random_state=42#Seed is fixed\n",
    "        )\n",
    "\n",
    "#Downsampling\n",
    "from sklearn.utils import resample\n",
    "df_majority_downsampled=resample(df_majority,replace=False, #Sample With replacement since we need to reduce data points\n",
    "         n_samples=len(df_minority),\n",
    "         random_state=42\n",
    "        )"
   ]
  },
  {
   "cell_type": "code",
   "execution_count": null,
   "id": "2b0ed2c0",
   "metadata": {},
   "outputs": [],
   "source": [
    "#3\n",
    "Imbalanced data is one where the ratio between two categories is very poorly distributed-one extremley high and other very low.\n",
    "This lead to biasness in data and in turn inaccurate predictions."
   ]
  },
  {
   "cell_type": "markdown",
   "id": "b305c343",
   "metadata": {},
   "source": []
  },
  {
   "cell_type": "code",
   "execution_count": null,
   "id": "734ee3a6",
   "metadata": {},
   "outputs": [],
   "source": [
    "#4\n",
    "Methods of handling imbalanced data:\n",
    "Upsampling: Method of increasing the number of values of the category in minority to match the count of the majority category.\n",
    "Downsampling: Method of decreasing the number of values of the category in majority to match the count of the minority category.\n"
   ]
  },
  {
   "cell_type": "code",
   "execution_count": null,
   "id": "e7bebee8",
   "metadata": {},
   "outputs": [],
   "source": [
    "#5\n",
    "SMOTE:Synthetic Minority Oversampling Technique\n",
    "    One way to deal with imbalanced data by generating more values for minority category by extrapolating between existing instances."
   ]
  },
  {
   "cell_type": "code",
   "execution_count": null,
   "id": "cab76018",
   "metadata": {},
   "outputs": [],
   "source": [
    "#6\n",
    "Outliers:Values in a dataset that lie way above/below the normal range of the data.\n",
    "If we dont handle outliers leads to inaccurate predictions."
   ]
  },
  {
   "cell_type": "code",
   "execution_count": null,
   "id": "59fa5f7a",
   "metadata": {},
   "outputs": [],
   "source": [
    "#7\n",
    "Upsampling and downsampling."
   ]
  },
  {
   "cell_type": "code",
   "execution_count": null,
   "id": "2d5fada9",
   "metadata": {},
   "outputs": [],
   "source": [
    "#8\n",
    "MCAR:Missing values randomly distributed.\n",
    "MAR:Probability of  a value missing depends on the observed data.\n",
    "MNAR:Probability of  a value missing don't depends on the observed data."
   ]
  },
  {
   "cell_type": "code",
   "execution_count": null,
   "id": "51fa943d",
   "metadata": {},
   "outputs": [],
   "source": [
    "#9\n",
    "We can use upsampling and SMOTE."
   ]
  },
  {
   "cell_type": "code",
   "execution_count": null,
   "id": "851ff6d6",
   "metadata": {},
   "outputs": [],
   "source": [
    "#10\n",
    "Downsampling"
   ]
  },
  {
   "cell_type": "code",
   "execution_count": null,
   "id": "b588d2fa",
   "metadata": {},
   "outputs": [],
   "source": [
    "#11\n",
    "Upsampling and Smote"
   ]
  }
 ],
 "metadata": {
  "kernelspec": {
   "display_name": "Python 3 (ipykernel)",
   "language": "python",
   "name": "python3"
  },
  "language_info": {
   "codemirror_mode": {
    "name": "ipython",
    "version": 3
   },
   "file_extension": ".py",
   "mimetype": "text/x-python",
   "name": "python",
   "nbconvert_exporter": "python",
   "pygments_lexer": "ipython3",
   "version": "3.11.5"
  }
 },
 "nbformat": 4,
 "nbformat_minor": 5
}
