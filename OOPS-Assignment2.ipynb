{
 "cells": [
  {
   "cell_type": "code",
   "execution_count": 5,
   "id": "99db2839",
   "metadata": {},
   "outputs": [],
   "source": [
    "#1\n",
    "class vehicle:\n",
    "    def __init__(self,name,max_speed,avg):\n",
    "        self.name_of_vehicle=name\n",
    "        self.max_speed=max_speed\n",
    "        self.avg_of_vehicle=avg\n",
    "        "
   ]
  },
  {
   "cell_type": "code",
   "execution_count": 6,
   "id": "c40efbc4",
   "metadata": {},
   "outputs": [],
   "source": [
    "vehicle_class=vehicle('Duster',100,60)"
   ]
  },
  {
   "cell_type": "code",
   "execution_count": 7,
   "id": "a9a75f86",
   "metadata": {},
   "outputs": [
    {
     "data": {
      "text/plain": [
       "60"
      ]
     },
     "execution_count": 7,
     "metadata": {},
     "output_type": "execute_result"
    }
   ],
   "source": [
    "vehicle_class.avg_of_vehicle"
   ]
  },
  {
   "cell_type": "code",
   "execution_count": 14,
   "id": "2321b03f",
   "metadata": {},
   "outputs": [],
   "source": [
    "#2\n",
    "class car(vehicle):\n",
    "    def __init__(self,capacity):\n",
    "        self.capacity=capacity\n",
    "        \n",
    "        \n",
    "    def seating_capacity(self,capacity):\n",
    "        print('Capacity of',self.name,'is',self.capacity)"
   ]
  },
  {
   "cell_type": "code",
   "execution_count": 15,
   "id": "fc9511dd",
   "metadata": {},
   "outputs": [],
   "source": [
    "car_class=car(20)\n"
   ]
  },
  {
   "cell_type": "code",
   "execution_count": 18,
   "id": "3e4cfe61",
   "metadata": {},
   "outputs": [
    {
     "name": "stdout",
     "output_type": "stream",
     "text": [
      "<bound method car.seating_capacity of <__main__.car object at 0x0000010E5F4D75D0>>\n"
     ]
    }
   ],
   "source": [
    "print(car_class.seating_capacity)"
   ]
  },
  {
   "cell_type": "code",
   "execution_count": 19,
   "id": "081c8b11",
   "metadata": {},
   "outputs": [
    {
     "name": "stdout",
     "output_type": "stream",
     "text": [
      "Hi\n"
     ]
    }
   ],
   "source": [
    "#3\n",
    "#c1+c2-c3\n",
    "#Multiple inheritance-Access both classes in c3\n",
    "class c1:\n",
    "    def tc1(self):\n",
    "        print('Hi')\n",
    "        \n",
    "class c2:\n",
    "    def tc2(self):\n",
    "        print('Hi2')\n",
    "\n",
    "class c3(c1,c2):\n",
    "    pass\n",
    "obj=c3()\n",
    "obj.tc1()"
   ]
  },
  {
   "cell_type": "code",
   "execution_count": 20,
   "id": "04a4598b",
   "metadata": {},
   "outputs": [],
   "source": [
    "#4\n",
    "#In case of creating a private variable where the user can't access it, getter and setter method is used to both retrieve as well as update the value.\n",
    "class movie:\n",
    "    def __init__(self,name,director,year):\n",
    "        self.__name=name\n",
    "        self.__director=director\n",
    "        self.__year=year\n",
    "    def set_name(self,name):\n",
    "        self.__name=name\n",
    "    def get_name(self,name):\n",
    "        return self.__name"
   ]
  },
  {
   "cell_type": "code",
   "execution_count": 21,
   "id": "4c084be5",
   "metadata": {},
   "outputs": [],
   "source": [
    "movie_det=movie('Oppenheimer','Nolan','2023')"
   ]
  },
  {
   "cell_type": "code",
   "execution_count": 22,
   "id": "f414d2f7",
   "metadata": {},
   "outputs": [
    {
     "data": {
      "text/plain": [
       "<bound method movie.get_name of <__main__.movie object at 0x0000010E5F4EA9D0>>"
      ]
     },
     "execution_count": 22,
     "metadata": {},
     "output_type": "execute_result"
    }
   ],
   "source": [
    "movie_det.get_name"
   ]
  },
  {
   "cell_type": "code",
   "execution_count": 23,
   "id": "3420c312",
   "metadata": {},
   "outputs": [],
   "source": [
    "movie_det.set_name='Inception'"
   ]
  },
  {
   "cell_type": "code",
   "execution_count": 24,
   "id": "bf04f13e",
   "metadata": {},
   "outputs": [
    {
     "data": {
      "text/plain": [
       "<bound method movie.get_name of <__main__.movie object at 0x0000010E5F4EA9D0>>"
      ]
     },
     "execution_count": 24,
     "metadata": {},
     "output_type": "execute_result"
    }
   ],
   "source": [
    "movie_det.get_name"
   ]
  },
  {
   "cell_type": "code",
   "execution_count": 25,
   "id": "629bcdff",
   "metadata": {},
   "outputs": [],
   "source": [
    "#5\n",
    "#In oops method overiding is when a child provides specific implementation of a method that is already in its parent.\n",
    "class class1:\n",
    "    def tc1(self):\n",
    "        print('Hi')\n",
    "        \n",
    "class class2(c1):\n",
    "    def tc2(self):\n",
    "        print('Hello')\n",
    "\n",
    "class class3(c2):\n",
    "    def tc3(self):\n",
    "        print('Welcome')"
   ]
  },
  {
   "cell_type": "code",
   "execution_count": null,
   "id": "3061b7e8",
   "metadata": {},
   "outputs": [],
   "source": []
  }
 ],
 "metadata": {
  "kernelspec": {
   "display_name": "Python 3 (ipykernel)",
   "language": "python",
   "name": "python3"
  },
  "language_info": {
   "codemirror_mode": {
    "name": "ipython",
    "version": 3
   },
   "file_extension": ".py",
   "mimetype": "text/x-python",
   "name": "python",
   "nbconvert_exporter": "python",
   "pygments_lexer": "ipython3",
   "version": "3.11.5"
  }
 },
 "nbformat": 4,
 "nbformat_minor": 5
}
