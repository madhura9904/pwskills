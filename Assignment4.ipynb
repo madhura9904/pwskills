{
  "metadata": {
    "language_info": {
      "codemirror_mode": {
        "name": "python",
        "version": 3
      },
      "file_extension": ".py",
      "mimetype": "text/x-python",
      "name": "python",
      "nbconvert_exporter": "python",
      "pygments_lexer": "ipython3",
      "version": "3.8"
    },
    "kernelspec": {
      "name": "python",
      "display_name": "Python (Pyodide)",
      "language": "python"
    }
  },
  "nbformat_minor": 4,
  "nbformat": 4,
  "cells": [
    {
      "cell_type": "code",
      "source": "#1\n#def is used to create a function\ndef odd():\n    l1=[]\n    for i in range(0,26):\n        if i%2!=0:\n            l1.append(i)\n    print(l1)\nodd()",
      "metadata": {
        "trusted": true
      },
      "execution_count": 5,
      "outputs": [
        {
          "name": "stdout",
          "text": "[1, 3, 5, 7, 9, 11, 13, 15, 17, 19, 21, 23, 25]\n",
          "output_type": "stream"
        }
      ]
    },
    {
      "cell_type": "code",
      "source": "#2\n#args:Used to pass any number of variables\n#kwargs:Used to pass any number key and value pairs\ndef test(*args):\n    return args\ntest(1,2,3,4,5)\ndef test1(*kwargs):\n    return kwargs\ntest1()",
      "metadata": {
        "trusted": true
      },
      "execution_count": 16,
      "outputs": [
        {
          "execution_count": 16,
          "output_type": "execute_result",
          "data": {
            "text/plain": "()"
          },
          "metadata": {}
        }
      ]
    },
    {
      "cell_type": "code",
      "source": "#3\n#Iterator is used to iterate over objects like tuples,strings,lists.\n#Method for iteration:for and while loop\nl=[2, 4, 6, 8, 10, 12, 14, 16,18, 20]\nfor i in range(0,5):\n    print(l[i])\n    ",
      "metadata": {
        "trusted": true
      },
      "execution_count": 17,
      "outputs": [
        {
          "name": "stdout",
          "text": "2\n4\n6\n8\n10\n",
          "output_type": "stream"
        }
      ]
    },
    {
      "cell_type": "code",
      "source": "#4\n#Generator function:Generates the values assigned to it\n#Yield is used to yield the values assigned to it;Instead of holding the entore list and storing it in data ,using yield output is recived now and then.\ndef fib(n):\n    a,b=0,1\n    for i in range(n):\n        yield a\n        a,b=b,a+b\nfib(10)\nfor i in fib(10):\n    print(i)",
      "metadata": {
        "trusted": true
      },
      "execution_count": 20,
      "outputs": [
        {
          "name": "stdout",
          "text": "0\n1\n1\n2\n3\n5\n8\n13\n21\n34\n",
          "output_type": "stream"
        }
      ]
    },
    {
      "cell_type": "code",
      "source": "#5\ndef prime(n):\n    for Number in range (1, n):\n        count = 0\n        for i in range(2,Number):\n            if(Number % i == 0):\n                count = count + 1\n                break\n        if (count<1):\n            print(Number)\nprime(1000)             ",
      "metadata": {
        "trusted": true
      },
      "execution_count": 36,
      "outputs": [
        {
          "name": "stdout",
          "text": "1\n2\n3\n5\n7\n11\n13\n17\n19\n23\n29\n31\n37\n41\n43\n47\n53\n59\n61\n67\n71\n73\n79\n83\n89\n97\n101\n103\n107\n109\n113\n127\n131\n137\n139\n149\n151\n157\n163\n167\n173\n179\n181\n191\n193\n197\n199\n211\n223\n227\n229\n233\n239\n241\n251\n257\n263\n269\n271\n277\n281\n283\n293\n307\n311\n313\n317\n331\n337\n347\n349\n353\n359\n367\n373\n379\n383\n389\n397\n401\n409\n419\n421\n431\n433\n439\n443\n449\n457\n461\n463\n467\n479\n487\n491\n499\n503\n509\n521\n523\n541\n547\n557\n563\n569\n571\n577\n587\n593\n599\n601\n607\n613\n617\n619\n631\n641\n643\n647\n653\n659\n661\n673\n677\n683\n691\n701\n709\n719\n727\n733\n739\n743\n751\n757\n761\n769\n773\n787\n797\n809\n811\n821\n823\n827\n829\n839\n853\n857\n859\n863\n877\n881\n883\n887\n907\n911\n919\n929\n937\n941\n947\n953\n967\n971\n977\n983\n991\n997\n",
          "output_type": "stream"
        }
      ]
    },
    {
      "cell_type": "code",
      "source": "",
      "metadata": {},
      "execution_count": null,
      "outputs": []
    }
  ]
}