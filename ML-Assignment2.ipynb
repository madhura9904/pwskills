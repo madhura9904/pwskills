{
 "cells": [
  {
   "cell_type": "code",
   "execution_count": null,
   "id": "ae5e9e13",
   "metadata": {},
   "outputs": [],
   "source": [
    "[1]OVERFITTING:\n",
    ">Train-Model trained-Accuracy 95 per\n",
    ">Test-Model tested-Accuracy 65 per\n",
    ">Low bias and high variance.\n",
    "\n",
    "UNDERFITTING:\n",
    ">>Train-Model trained-Accuracy 65 per\n",
    ">Test-Model tested-Accuracy 65 per\n",
    ">High bias and high variance.\n",
    "\n",
    "Mitigated by:\n",
    "GENARALIZED MODEL:IDEAL MODEL\n",
    ">>Train-Model trained-Accuracy high-85\n",
    ">Test-Model tested-Accuracy high-85\n",
    ">Low bias and low variance.\n",
    "\n",
    "\n",
    "\n"
   ]
  },
  {
   "cell_type": "code",
   "execution_count": null,
   "id": "554bba43",
   "metadata": {},
   "outputs": [],
   "source": [
    "[2]To increase accuracy of test model we can try training the model on various different new unseen data to reduce variance percentage."
   ]
  },
  {
   "cell_type": "code",
   "execution_count": null,
   "id": "116e6284",
   "metadata": {},
   "outputs": [],
   "source": [
    "[3]UNDERFITTING:\n",
    ">Train-Model trained-Accuracy 65 per\n",
    ">Test-Model tested-Accuracy 65 per\n",
    ">High bias and high variance.\n",
    ">Occurs when model is not trained properly "
   ]
  },
  {
   "cell_type": "code",
   "execution_count": null,
   "id": "f4880c78",
   "metadata": {},
   "outputs": [],
   "source": [
    "[4]Bias:How inclined or biased the predictions are towards one prediction\n",
    "   Variance:How varied the test model is from the trained model\n",
    "   High bias high variance leads to less accuracy.\n",
    "    Low bias and variance lead to increased accuracy."
   ]
  },
  {
   "cell_type": "code",
   "execution_count": null,
   "id": "6385a14d",
   "metadata": {},
   "outputs": [],
   "source": [
    "[5]We can determine by comparing the predictions made by the testand train models.\n",
    "Also by looking at the prediction error on the training daa."
   ]
  },
  {
   "cell_type": "code",
   "execution_count": null,
   "id": "d9237550",
   "metadata": {},
   "outputs": [],
   "source": [
    "[6]Bias:How inclined or biased the predictions are towards one prediction\n",
    "   Variance:How varied the test model is from the trained model\n",
    "   High bias high variance leads to less accuracy.\n",
    "    Low bias and variance lead to increased accuracy.\n",
    "    EX:Linear Regression"
   ]
  },
  {
   "cell_type": "code",
   "execution_count": null,
   "id": "baf5645e",
   "metadata": {},
   "outputs": [],
   "source": [
    "[7]GENARALIZED MODEL:IDEAL MODEL\n",
    ">>Train-Model trained-Accuracy high-85\n",
    ">Test-Model tested-Accuracy high-85\n",
    ">Low bias and low variance.\n",
    ">EX:Ridge Regularisation"
   ]
  }
 ],
 "metadata": {
  "kernelspec": {
   "display_name": "Python 3 (ipykernel)",
   "language": "python",
   "name": "python3"
  },
  "language_info": {
   "codemirror_mode": {
    "name": "ipython",
    "version": 3
   },
   "file_extension": ".py",
   "mimetype": "text/x-python",
   "name": "python",
   "nbconvert_exporter": "python",
   "pygments_lexer": "ipython3",
   "version": "3.11.5"
  }
 },
 "nbformat": 4,
 "nbformat_minor": 5
}
