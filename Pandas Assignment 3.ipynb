{
 "cells": [
  {
   "cell_type": "code",
   "execution_count": 3,
   "id": "4d334e31",
   "metadata": {},
   "outputs": [
    {
     "data": {
      "text/html": [
       "<div>\n",
       "<style scoped>\n",
       "    .dataframe tbody tr th:only-of-type {\n",
       "        vertical-align: middle;\n",
       "    }\n",
       "\n",
       "    .dataframe tbody tr th {\n",
       "        vertical-align: top;\n",
       "    }\n",
       "\n",
       "    .dataframe thead th {\n",
       "        text-align: right;\n",
       "    }\n",
       "</style>\n",
       "<table border=\"1\" class=\"dataframe\">\n",
       "  <thead>\n",
       "    <tr style=\"text-align: right;\">\n",
       "      <th></th>\n",
       "      <th>course_name</th>\n",
       "      <th>duration</th>\n",
       "    </tr>\n",
       "  </thead>\n",
       "  <tbody>\n",
       "    <tr>\n",
       "      <th>0</th>\n",
       "      <td>Data Science</td>\n",
       "      <td>2</td>\n",
       "    </tr>\n",
       "    <tr>\n",
       "      <th>1</th>\n",
       "      <td>Machine Learning</td>\n",
       "      <td>3</td>\n",
       "    </tr>\n",
       "    <tr>\n",
       "      <th>2</th>\n",
       "      <td>Big Data</td>\n",
       "      <td>6</td>\n",
       "    </tr>\n",
       "    <tr>\n",
       "      <th>3</th>\n",
       "      <td>Data Engineer</td>\n",
       "      <td>4</td>\n",
       "    </tr>\n",
       "  </tbody>\n",
       "</table>\n",
       "</div>"
      ],
      "text/plain": [
       "        course_name  duration\n",
       "0      Data Science         2\n",
       "1  Machine Learning         3\n",
       "2          Big Data         6\n",
       "3     Data Engineer         4"
      ]
     },
     "execution_count": 3,
     "metadata": {},
     "output_type": "execute_result"
    }
   ],
   "source": [
    "import pandas as pd\n",
    "course_name = ['Data Science', 'Machine Learning', 'Big Data', 'Data Engineer']\n",
    "duration = [2,3,6,4]\n",
    "df = pd.DataFrame(data = {'course_name' : course_name, 'duration' : duration})\n",
    "df"
   ]
  },
  {
   "cell_type": "code",
   "execution_count": 11,
   "id": "a2bbdb2e",
   "metadata": {},
   "outputs": [
    {
     "data": {
      "text/plain": [
       "course_name    Machine Learning\n",
       "duration                      3\n",
       "Name: 1, dtype: object"
      ]
     },
     "execution_count": 11,
     "metadata": {},
     "output_type": "execute_result"
    }
   ],
   "source": [
    "#1\n",
    "df.iloc[1]"
   ]
  },
  {
   "cell_type": "code",
   "execution_count": null,
   "id": "64b60e12",
   "metadata": {},
   "outputs": [],
   "source": [
    "#2\n",
    "#Iloc=Access data using fixed index values;Loc=Access data using the index names"
   ]
  },
  {
   "cell_type": "code",
   "execution_count": 13,
   "id": "143aede9",
   "metadata": {},
   "outputs": [
    {
     "data": {
      "text/plain": [
       "course_name    Big Data\n",
       "duration              6\n",
       "Name: 2, dtype: object"
      ]
     },
     "execution_count": 13,
     "metadata": {},
     "output_type": "execute_result"
    }
   ],
   "source": [
    "#3\n",
    "new_df=df.reindex([3,0,1,2])\n",
    "new_df.loc[2]"
   ]
  },
  {
   "cell_type": "code",
   "execution_count": 14,
   "id": "c4e77b68",
   "metadata": {},
   "outputs": [
    {
     "data": {
      "text/plain": [
       "course_name    Machine Learning\n",
       "duration                      3\n",
       "Name: 1, dtype: object"
      ]
     },
     "execution_count": 14,
     "metadata": {},
     "output_type": "execute_result"
    }
   ],
   "source": [
    "new_df.iloc[2]"
   ]
  },
  {
   "cell_type": "code",
   "execution_count": null,
   "id": "3165a4d3",
   "metadata": {},
   "outputs": [],
   "source": [
    "#Yes difference because loc locates by index name by iloc by standard index value. "
   ]
  },
  {
   "cell_type": "code",
   "execution_count": 15,
   "id": "0cbbbba6",
   "metadata": {},
   "outputs": [],
   "source": [
    "import pandas as pd\n",
    "import numpy as np\n",
    "columns = ['column_1', 'column_2', 'column_3', 'column_4', 'column_5', 'column_6']\n",
    "indices = [1,2,3,4,5,6]\n",
    "#Creating a dataframe:\n",
    "df1 = pd.DataFrame(np.random.rand(6,6), columns = columns, index = indices)"
   ]
  },
  {
   "cell_type": "code",
   "execution_count": 25,
   "id": "d0586803",
   "metadata": {},
   "outputs": [
    {
     "data": {
      "text/plain": [
       "column_1    0.661050\n",
       "column_2    0.545130\n",
       "column_3    0.476382\n",
       "column_4    0.544456\n",
       "column_5    0.286363\n",
       "column_6    0.467750\n",
       "dtype: float64"
      ]
     },
     "execution_count": 25,
     "metadata": {},
     "output_type": "execute_result"
    }
   ],
   "source": [
    "#4\n",
    "import numpy as np\n",
    "def test(x):\n",
    "    return np.mean(x)\n",
    "df1.apply(test)"
   ]
  },
  {
   "cell_type": "code",
   "execution_count": 26,
   "id": "2bafcf8f",
   "metadata": {},
   "outputs": [
    {
     "data": {
      "text/plain": [
       "0.4011305137845893"
      ]
     },
     "execution_count": 26,
     "metadata": {},
     "output_type": "execute_result"
    }
   ],
   "source": [
    "df1.iloc[2].std()"
   ]
  },
  {
   "cell_type": "code",
   "execution_count": 29,
   "id": "a0441d4f",
   "metadata": {},
   "outputs": [],
   "source": [
    "#5\n",
    "df1.loc['column_2']=type(str)"
   ]
  },
  {
   "cell_type": "code",
   "execution_count": 30,
   "id": "8a8b1d80",
   "metadata": {},
   "outputs": [
    {
     "data": {
      "text/plain": [
       "pandas.core.series.Series"
      ]
     },
     "execution_count": 30,
     "metadata": {},
     "output_type": "execute_result"
    }
   ],
   "source": [
    "type(df1.loc['column_2'])"
   ]
  },
  {
   "cell_type": "code",
   "execution_count": null,
   "id": "91009aef",
   "metadata": {},
   "outputs": [],
   "source": [
    "df1.loc['column_2'].mean()\n",
    "#Cannot add two different object variables"
   ]
  },
  {
   "cell_type": "code",
   "execution_count": null,
   "id": "45376008",
   "metadata": {},
   "outputs": [],
   "source": [
    "#6-Perform operations for set of data as specified-Ex:Rolling"
   ]
  },
  {
   "cell_type": "code",
   "execution_count": null,
   "id": "da1ffb8c",
   "metadata": {},
   "outputs": [],
   "source": [
    "#7\n",
    "df['date'].dt.yr/month"
   ]
  },
  {
   "cell_type": "code",
   "execution_count": null,
   "id": "3786dab9",
   "metadata": {},
   "outputs": [],
   "source": [
    "#8\n",
    "def time(date):\n",
    "    day=input('Day')\n",
    "    month=input('Month')\n",
    "    yr=input('Year')\n",
    "    time=pd.timedelta_range(day=day,month=month,year=yr)#Gives time diff\n",
    "    dt=pd.to_datetime(date)\n",
    "    dt-time\n",
    "    \n",
    "time(29-4-2024)"
   ]
  },
  {
   "cell_type": "code",
   "execution_count": null,
   "id": "c409e849",
   "metadata": {},
   "outputs": [],
   "source": [
    "#9\n",
    "df=pd.read_csv('Filepath')\n",
    "type(df['column_name'])=datatype\n",
    "df['column_name']"
   ]
  },
  {
   "cell_type": "code",
   "execution_count": null,
   "id": "f24b2b0f",
   "metadata": {},
   "outputs": [],
   "source": [
    "#10\n",
    "df=pd.read_csv('Filepath')\n",
    "sales=df['Sales']\n",
    "time=df['Time']\n",
    "plot=pd.Series(sales,time)\n",
    "plot.plot()"
   ]
  },
  {
   "cell_type": "markdown",
   "id": "b43eeecb",
   "metadata": {},
   "source": []
  },
  {
   "cell_type": "code",
   "execution_count": null,
   "id": "8baa8ab7",
   "metadata": {},
   "outputs": [],
   "source": [
    "#11\n",
    "def mark_table(path):\n",
    "    df=pd.read_csv(path)\n",
    "    mean=df['Marks'].mean()\n",
    "    median=df['Marks'].median()\n",
    "    mode=df['Marks'].mode()\n",
    "    dict={'mean':mean,'median':median,'mode':mode}\n",
    "    dt=pd.DataFrame(dict)\n",
    "    return dt"
   ]
  }
 ],
 "metadata": {
  "kernelspec": {
   "display_name": "Python 3 (ipykernel)",
   "language": "python",
   "name": "python3"
  },
  "language_info": {
   "codemirror_mode": {
    "name": "ipython",
    "version": 3
   },
   "file_extension": ".py",
   "mimetype": "text/x-python",
   "name": "python",
   "nbconvert_exporter": "python",
   "pygments_lexer": "ipython3",
   "version": "3.11.5"
  }
 },
 "nbformat": 4,
 "nbformat_minor": 5
}
