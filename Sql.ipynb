{
 "cells": [
  {
   "cell_type": "code",
   "execution_count": null,
   "id": "ab0ee16a",
   "metadata": {},
   "outputs": [],
   "source": [
    "#1\n",
    "Database:The collection of organized data and the accompanying software to access and update data.\n",
    "SQL Database:Database where data is organized into the form of tables.\n",
    "NO-SQL Database:Database where data is organized into documnets/files and not in tables."
   ]
  },
  {
   "cell_type": "code",
   "execution_count": null,
   "id": "5d81250e",
   "metadata": {},
   "outputs": [],
   "source": [
    "#2\n",
    "DDL:Data Definition Language\n",
    "That helps in defining the language of then database.\n",
    "CREATE:Helps to create the tables in SQL\n",
    "DROP:Helps to drop a table altogether\n",
    "ALTER:Helps to alter the table for any changes\n",
    "TRUNCATE:Helps to shorten the table"
   ]
  },
  {
   "cell_type": "code",
   "execution_count": null,
   "id": "71c28fa8",
   "metadata": {},
   "outputs": [],
   "source": [
    "#3\n",
    "DML:Data Manipulation Language\n",
    "Helps in manipulating the tables\n",
    "INSERT:Helps in insertion of new records in the tables\n",
    "UPDATE:Helps to update the table and records in the table according a certain criteria\n",
    "DELETE:Helps in removing and dropping records accordiing to certain criterias."
   ]
  },
  {
   "cell_type": "code",
   "execution_count": null,
   "id": "9ba39808",
   "metadata": {},
   "outputs": [],
   "source": [
    "#4\n",
    "DQL:Data Query Language\n",
    "Helps in retrieving records according to a certain criteria.\n",
    "Ex: select name where age=18"
   ]
  },
  {
   "cell_type": "code",
   "execution_count": null,
   "id": "e4765278",
   "metadata": {},
   "outputs": [],
   "source": [
    "#5\n",
    "Primary Key:An attribute of a row that helps in uniquely identifying the record.\n",
    "Foreign key: A primary key of a table being a reord of another table,referencing the parent table and acting as a link between the \n",
    "two tables."
   ]
  },
  {
   "cell_type": "code",
   "execution_count": null,
   "id": "78b9918b",
   "metadata": {},
   "outputs": [],
   "source": [
    "#6\n",
    "import mysql.connector\n",
    "\n",
    "# Establish connection\n",
    "conn = mysql.connector.connect(\n",
    "    host=\"localhost\",\n",
    "    user=\"your_username\",\n",
    "    password=\"your_password\",\n",
    "    database=\"your_database\"\n",
    ")\n",
    "\n",
    "# Create a cursor object\n",
    "cursor = conn.cursor()\n",
    "\n",
    "# Execute a query\n",
    "cursor.execute(\"SELECT * FROM your_table\")\n",
    "\n",
    "# Fetch and print results\n",
    "for row in cursor.fetchall():\n",
    "    print(row)\n",
    "\n",
    "# Close the connection\n",
    "conn.close()\n"
   ]
  },
  {
   "cell_type": "code",
   "execution_count": null,
   "id": "2ca16c42",
   "metadata": {},
   "outputs": [],
   "source": [
    "#7\n",
    "The order of execution of SQL clauses in a query (logical query processing order) is as follows:\n",
    "\n",
    "FROM: Specifies the tables to query and applies joins if necessary.\n",
    "WHERE: Filters rows based on specified conditions.\n",
    "GROUP BY: Groups rows with the same values in specified columns.\n",
    "HAVING: Filters groups based on aggregate conditions.\n",
    "SELECT: Specifies the columns or expressions to include in the result set.\n",
    "DISTINCT: Removes duplicate rows from the result set.\n",
    "ORDER BY: Sorts the result set based on specified columns.\n",
    "LIMIT/OFFSET: Restricts the number of rows returned and specifies starting point."
   ]
  }
 ],
 "metadata": {
  "kernelspec": {
   "display_name": "Python 3 (ipykernel)",
   "language": "python",
   "name": "python3"
  },
  "language_info": {
   "codemirror_mode": {
    "name": "ipython",
    "version": 3
   },
   "file_extension": ".py",
   "mimetype": "text/x-python",
   "name": "python",
   "nbconvert_exporter": "python",
   "pygments_lexer": "ipython3",
   "version": "3.11.5"
  }
 },
 "nbformat": 4,
 "nbformat_minor": 5
}
