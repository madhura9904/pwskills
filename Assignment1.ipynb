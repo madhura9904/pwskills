{
  "metadata": {
    "language_info": {
      "codemirror_mode": {
        "name": "python",
        "version": 3
      },
      "file_extension": ".py",
      "mimetype": "text/x-python",
      "name": "python",
      "nbconvert_exporter": "python",
      "pygments_lexer": "ipython3",
      "version": "3.8"
    },
    "kernelspec": {
      "name": "python",
      "display_name": "Python (Pyodide)",
      "language": "python"
    }
  },
  "nbformat_minor": 4,
  "nbformat": 4,
  "cells": [
    {
      "cell_type": "code",
      "source": "#1\na='pwskills'#string\nb=['a','b','c',1,2,3]\nc=2.33\nd=('a','b','c',1,2,3)\n",
      "metadata": {
        "trusted": true
      },
      "execution_count": 1,
      "outputs": []
    },
    {
      "cell_type": "code",
      "source": "#2\ni)Empty string\nii)string\niii)list\niv)integer\n",
      "metadata": {},
      "execution_count": null,
      "outputs": []
    },
    {
      "cell_type": "code",
      "source": "#3\ni)/ -Performs usual division and provides whole numbers or float values as answer\n10/4=2.5\nii)% -Modulus operator gives the remainder of the dision performed\nEx:10%4=2\niii)// - - Performs floor division,rounds off the integer to nearest whole number\nEx: 10/4=2\niv)** - Raises the number to a given a power\nEx: 2**3=8\n",
      "metadata": {},
      "execution_count": null,
      "outputs": []
    },
    {
      "cell_type": "code",
      "source": "#4\nlst=['a','b','c',3,4,5,6,'python','jupyter',8]\nfor i in lst:\n     print(i,':','Datatype:',type(i))",
      "metadata": {
        "trusted": true
      },
      "execution_count": 6,
      "outputs": [
        {
          "name": "stdout",
          "text": "a : Datatype: <class 'str'>\nb : Datatype: <class 'str'>\nc : Datatype: <class 'str'>\n3 : Datatype: <class 'int'>\n4 : Datatype: <class 'int'>\n5 : Datatype: <class 'int'>\n6 : Datatype: <class 'int'>\npython : Datatype: <class 'str'>\njupyter : Datatype: <class 'str'>\n8 : Datatype: <class 'int'>\n",
          "output_type": "stream"
        }
      ]
    },
    {
      "cell_type": "code",
      "source": "#5\na=input('Enter a number')\nb=input('Enter a number')\nfor i in range(1,b):\n    c=0\n    if a%b==0:\n        print('Divisible',a/b,'times.')\n    else:\n        print('Not divisible')\n\n",
      "metadata": {
        "trusted": true
      },
      "execution_count": 15,
      "outputs": [
        {
          "ename": "<class 'TypeError'>",
          "evalue": "'PyodideFuture' object cannot be interpreted as an integer",
          "traceback": [
            "\u001b[0;31m---------------------------------------------------------------------------\u001b[0m",
            "\u001b[0;31mTypeError\u001b[0m                                 Traceback (most recent call last)",
            "Cell \u001b[0;32mIn[15], line 4\u001b[0m\n\u001b[1;32m      2\u001b[0m a\u001b[38;5;241m=\u001b[39m\u001b[38;5;28minput\u001b[39m(\u001b[38;5;124m'\u001b[39m\u001b[38;5;124mEnter a number\u001b[39m\u001b[38;5;124m'\u001b[39m)\n\u001b[1;32m      3\u001b[0m b\u001b[38;5;241m=\u001b[39m\u001b[38;5;28minput\u001b[39m(\u001b[38;5;124m'\u001b[39m\u001b[38;5;124mEnter a number\u001b[39m\u001b[38;5;124m'\u001b[39m)\n\u001b[0;32m----> 4\u001b[0m \u001b[38;5;28;01mfor\u001b[39;00m i \u001b[38;5;129;01min\u001b[39;00m \u001b[38;5;28;43mrange\u001b[39;49m\u001b[43m(\u001b[49m\u001b[38;5;241;43m1\u001b[39;49m\u001b[43m,\u001b[49m\u001b[43mb\u001b[49m\u001b[43m)\u001b[49m:\n\u001b[1;32m      5\u001b[0m     c\u001b[38;5;241m=\u001b[39m\u001b[38;5;241m0\u001b[39m\n\u001b[1;32m      6\u001b[0m     \u001b[38;5;28;01mif\u001b[39;00m a\u001b[38;5;241m%\u001b[39mb\u001b[38;5;241m==\u001b[39m\u001b[38;5;241m0\u001b[39m:\n",
            "\u001b[0;31mTypeError\u001b[0m: 'PyodideFuture' object cannot be interpreted as an integer"
          ],
          "output_type": "error"
        },
        {
          "output_type": "stream",
          "name": "stdin",
          "text": "Enter a number 2\n"
        }
      ]
    },
    {
      "cell_type": "code",
      "source": "#6\nlst=[4,18,6,5,4,45,56,78,67,56,43,23,44,55,78,90,9,7,56,43,21,34,21,37,85]\nfor i in lst:\n    if i%3==0:\n        print(i,'divisible by 3')\n    else:\n        print(i,'not divisible by 3')",
      "metadata": {
        "trusted": true
      },
      "execution_count": 14,
      "outputs": [
        {
          "name": "stdout",
          "text": "4 not divisible by 3\n18 divisible by 3\n6 divisible by 3\n5 not divisible by 3\n4 not divisible by 3\n45 divisible by 3\n56 not divisible by 3\n78 divisible by 3\n67 not divisible by 3\n56 not divisible by 3\n43 not divisible by 3\n23 not divisible by 3\n44 not divisible by 3\n55 not divisible by 3\n78 divisible by 3\n90 divisible by 3\n9 divisible by 3\n7 not divisible by 3\n56 not divisible by 3\n43 not divisible by 3\n21 divisible by 3\n34 not divisible by 3\n21 divisible by 3\n37 not divisible by 3\n85 not divisible by 3\n",
          "output_type": "stream"
        }
      ]
    },
    {
      "cell_type": "code",
      "source": "#7\n'''Mutable :\n    The datatypes in which the data inside them can be changed or edited.\nEx:List\nImmutable:\n    The datatypes in which the data inside them cannot be changed or edited.\nEx:Tuple'''\n\nlst=['a','b','c',1,2,3]\nlst[0]=5\nprint(lst)\ntup=('a','b','c',1,2,3)\ntup[0]=5\nprint(tup)",
      "metadata": {
        "trusted": true
      },
      "execution_count": 17,
      "outputs": [
        {
          "name": "stdout",
          "text": "[5, 'b', 'c', 1, 2, 3]\n",
          "output_type": "stream"
        },
        {
          "ename": "<class 'TypeError'>",
          "evalue": "'tuple' object does not support item assignment",
          "traceback": [
            "\u001b[0;31m---------------------------------------------------------------------------\u001b[0m",
            "\u001b[0;31mTypeError\u001b[0m                                 Traceback (most recent call last)",
            "Cell \u001b[0;32mIn[17], line 13\u001b[0m\n\u001b[1;32m     11\u001b[0m \u001b[38;5;28mprint\u001b[39m(lst)\n\u001b[1;32m     12\u001b[0m tup\u001b[38;5;241m=\u001b[39m(\u001b[38;5;124m'\u001b[39m\u001b[38;5;124ma\u001b[39m\u001b[38;5;124m'\u001b[39m,\u001b[38;5;124m'\u001b[39m\u001b[38;5;124mb\u001b[39m\u001b[38;5;124m'\u001b[39m,\u001b[38;5;124m'\u001b[39m\u001b[38;5;124mc\u001b[39m\u001b[38;5;124m'\u001b[39m,\u001b[38;5;241m1\u001b[39m,\u001b[38;5;241m2\u001b[39m,\u001b[38;5;241m3\u001b[39m)\n\u001b[0;32m---> 13\u001b[0m \u001b[43mtup\u001b[49m\u001b[43m[\u001b[49m\u001b[38;5;241;43m0\u001b[39;49m\u001b[43m]\u001b[49m\u001b[38;5;241m=\u001b[39m\u001b[38;5;241m5\u001b[39m\n\u001b[1;32m     14\u001b[0m \u001b[38;5;28mprint\u001b[39m(tup)\n",
            "\u001b[0;31mTypeError\u001b[0m: 'tuple' object does not support item assignment"
          ],
          "output_type": "error"
        }
      ]
    },
    {
      "cell_type": "code",
      "source": "",
      "metadata": {},
      "execution_count": null,
      "outputs": []
    }
  ]
}