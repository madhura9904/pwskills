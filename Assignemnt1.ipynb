{
 "cells": [
  {
   "cell_type": "code",
   "execution_count": null,
   "id": "7a19f04a",
   "metadata": {},
   "outputs": [],
   "source": [
    "#1\n",
    "Simple linear regression:When we have one independent feature and we predict one dependent feature from it.\n",
    "                         Ex:Predicting height with weight\n",
    "Multiple regression:When we have many independent features and we predict one dependent feature from it.\n",
    "                    Ex:Predicting price of house using location,rooms,etc"
   ]
  },
  {
   "cell_type": "code",
   "execution_count": null,
   "id": "e920383a",
   "metadata": {},
   "outputs": [],
   "source": [
    "#2\n",
    "Assumptions:\n",
    "    Linear relation between the variables:Straigth slope line while plotting\n",
    "    Variables are independent"
   ]
  },
  {
   "cell_type": "code",
   "execution_count": null,
   "id": "036dfef4",
   "metadata": {},
   "outputs": [],
   "source": [
    "#3\n",
    "Slope:It is the change in y axis for a unit change in x axis; that is the predicted value in y axis for a given x axis value\n",
    "      Ex:For a given weight,we can predict a certain height\n",
    "\n",
    "Intercept:The initial value in y axis if given x axis value is 0\n",
    "          Ex:If we are to predict the salary corresponding to experience, intercept would be the salary for a fresher."
   ]
  },
  {
   "cell_type": "code",
   "execution_count": null,
   "id": "8cfe0a46",
   "metadata": {},
   "outputs": [],
   "source": [
    "#4\n",
    "Gradient descent:Used to optimize the cost function by making it reach the global minima."
   ]
  },
  {
   "cell_type": "code",
   "execution_count": null,
   "id": "4ffe7b7e",
   "metadata": {},
   "outputs": [],
   "source": [
    "#5\n",
    "Multiple linear regression:When we have many independent features and we predict one dependent feature from it.\n",
    "                    Ex:Predicting price of house using location,rooms,etc"
   ]
  },
  {
   "cell_type": "code",
   "execution_count": null,
   "id": "de956e5d",
   "metadata": {},
   "outputs": [],
   "source": [
    "#6\n",
    "Multicollinearity occurs in multiple linear regression when two or more independent variables are highly correlated with each other. \n",
    "\n",
    "Checking for Multicollinearity:\n",
    "    High variance inflation factor (VIF)\n",
    "    Unstable coefficients\n",
    "    Correlation matrix\n",
    "    \n",
    "Solving Multicollinearity:\n",
    "    Remove correlated predictors\n",
    "    Combine variables\n",
    "    Regularization\n",
    "    Increase sample size\n",
    "    "
   ]
  },
  {
   "cell_type": "code",
   "execution_count": null,
   "id": "29d2ae60",
   "metadata": {},
   "outputs": [],
   "source": [
    "#7\n",
    "Polynomial Regression:When relation between the variables are non-linear.\n"
   ]
  },
  {
   "cell_type": "code",
   "execution_count": null,
   "id": "bd9a6efe",
   "metadata": {},
   "outputs": [],
   "source": [
    "#8\n",
    "Advantages:When relation between the variables are non-linear\n",
    "Disadvantages:Overfitting\n",
    "              Multicollinearity\n",
    "              Increased complexity"
   ]
  }
 ],
 "metadata": {
  "kernelspec": {
   "display_name": "Python 3 (ipykernel)",
   "language": "python",
   "name": "python3"
  },
  "language_info": {
   "codemirror_mode": {
    "name": "ipython",
    "version": 3
   },
   "file_extension": ".py",
   "mimetype": "text/x-python",
   "name": "python",
   "nbconvert_exporter": "python",
   "pygments_lexer": "ipython3",
   "version": "3.11.5"
  }
 },
 "nbformat": 4,
 "nbformat_minor": 5
}
