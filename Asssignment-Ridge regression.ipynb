{
 "cells": [
  {
   "cell_type": "code",
   "execution_count": null,
   "id": "6f44c791",
   "metadata": {},
   "outputs": [],
   "source": [
    "#1\n",
    "In ridge regression if there is a case of overfitting we introduce a hyperparameter to reduce the accuracy of training data in order to \n",
    "make the test data more accurate."
   ]
  },
  {
   "cell_type": "code",
   "execution_count": null,
   "id": "05ecbf5f",
   "metadata": {},
   "outputs": [],
   "source": [
    "#2\n",
    "In ridge regression we assume that the data points coincide perfectly with the best fit line,that is the error between the data \n",
    "points and the slope of best fit line is zero."
   ]
  },
  {
   "cell_type": "code",
   "execution_count": null,
   "id": "88ee7f03",
   "metadata": {},
   "outputs": [],
   "source": [
    "#3\n",
    "We select lambda value in such a way that it both prevents overfitting as well as reduce any error or inaccuracy."
   ]
  },
  {
   "cell_type": "code",
   "execution_count": null,
   "id": "7fba1f36",
   "metadata": {},
   "outputs": [],
   "source": [
    "#4\n",
    "Yes it can be used for feature selection.Because when we perform ridge regression we actually bring down the variance, so we can find the \n",
    "deatures with less variance and select them as they are more important."
   ]
  },
  {
   "cell_type": "code",
   "execution_count": null,
   "id": "9f89ce87",
   "metadata": {},
   "outputs": [],
   "source": [
    "#5\n",
    "Multicollinearity occurs when the variables are comptely related.\n",
    "So ridge regression helps to resolve it by introducing a bias to reduce overfitting and improving accuracy."
   ]
  },
  {
   "cell_type": "code",
   "execution_count": null,
   "id": "9040ad07",
   "metadata": {},
   "outputs": [],
   "source": [
    "#6\n",
    "Yes, Ridge Regression can handle both categorical and continuous independent variables, but categorical variables have to be encoded before using\n",
    "and continuous variables have to be normalized and standardized."
   ]
  },
  {
   "cell_type": "code",
   "execution_count": null,
   "id": "5f371ac6",
   "metadata": {},
   "outputs": [],
   "source": [
    "#7\n",
    "In ridge regression w ehave two important coefficients, the error we recieve from the best fit line that will be 0 in case of \n",
    "overfitting and the bias we introduce to reduce overfitting."
   ]
  },
  {
   "cell_type": "code",
   "execution_count": null,
   "id": "eec5706c",
   "metadata": {},
   "outputs": [],
   "source": [
    "#8\n",
    "Yes they can be used."
   ]
  }
 ],
 "metadata": {
  "kernelspec": {
   "display_name": "Python 3 (ipykernel)",
   "language": "python",
   "name": "python3"
  },
  "language_info": {
   "codemirror_mode": {
    "name": "ipython",
    "version": 3
   },
   "file_extension": ".py",
   "mimetype": "text/x-python",
   "name": "python",
   "nbconvert_exporter": "python",
   "pygments_lexer": "ipython3",
   "version": "3.11.5"
  }
 },
 "nbformat": 4,
 "nbformat_minor": 5
}
