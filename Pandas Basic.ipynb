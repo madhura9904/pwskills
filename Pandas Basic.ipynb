{
  "metadata": {
    "language_info": {
      "codemirror_mode": {
        "name": "python",
        "version": 3
      },
      "file_extension": ".py",
      "mimetype": "text/x-python",
      "name": "python",
      "nbconvert_exporter": "python",
      "pygments_lexer": "ipython3",
      "version": "3.8"
    },
    "kernelspec": {
      "name": "python",
      "display_name": "Python (Pyodide)",
      "language": "python"
    }
  },
  "nbformat_minor": 4,
  "nbformat": 4,
  "cells": [
    {
      "cell_type": "code",
      "source": "#1\nimport pandas as pd\na=pd.Series((4,8,15,16,23,42))\nprint(a)",
      "metadata": {
        "trusted": true
      },
      "execution_count": 7,
      "outputs": [
        {
          "name": "stdout",
          "text": "0     4\n1     8\n2    15\n3    16\n4    23\n5    42\ndtype: int64\n",
          "output_type": "stream"
        }
      ]
    },
    {
      "cell_type": "code",
      "source": "#2\nimport pandas as pd\nlist=[1,2,'a',45,'string',44,4,67,'i',0]\na=pd.Series(list)\nprint(a)",
      "metadata": {
        "trusted": true
      },
      "execution_count": 8,
      "outputs": [
        {
          "name": "stdout",
          "text": "0         1\n1         2\n2         a\n3        45\n4    string\n5        44\n6         4\n7        67\n8         i\n9         0\ndtype: object\n",
          "output_type": "stream"
        }
      ]
    },
    {
      "cell_type": "code",
      "source": "#3\nName=['Alice','Bob','Claire']\nAge=[25,30,27]\nGender=['Female','Male','Female']\ndf=pd.DataFrame([Name,Age,Gender])\ndf.columns=['Name','Age','Gender']\nprint(df)",
      "metadata": {
        "trusted": true
      },
      "execution_count": 14,
      "outputs": [
        {
          "name": "stdout",
          "text": "     Name   Age  Gender\n0   Alice   Bob  Claire\n1      25    30      27\n2  Female  Male  Female\n",
          "output_type": "stream"
        }
      ]
    },
    {
      "cell_type": "code",
      "source": "#4\nDATAFRAME:\n    It contains rows and columns.\n    If not assigned it automatically assigns row and column indices.\n    Example:\n        Name=['Alice','Bob','Claire']\nAge=[25,30,27]\nGender=['Female','Male','Female']\ndf=pd.DataFrame([Name,Age,Gender])\ndf.columns=['Name','Age','Gender']\nprint(df)\n    Its data in a table format.\nSERIES:\n    Its a list of elements with indices.\n    Example:\n        import pandas as pd\nlist=[1,2,'a',45,'string',44,4,67,'i',0]\na=pd.Series(list)\nprint(a)\n        ",
      "metadata": {},
      "execution_count": null,
      "outputs": []
    },
    {
      "cell_type": "code",
      "source": "#5\nFunctions to manipulate data:\n    sort_values:Sort values in the dataframe\n    fillna:Fill the empty cells\n    isnull:Returns true or false if cells are empty\n    value_counts:Returns the number of occurences of a given value.\n    ",
      "metadata": {},
      "execution_count": null,
      "outputs": []
    },
    {
      "cell_type": "code",
      "source": "#6\nPanel is mutable",
      "metadata": {},
      "execution_count": null,
      "outputs": []
    },
    {
      "cell_type": "code",
      "source": "#7\nimport pandas as pd\na={'Name':pd.Series(['Alice','Bob','Claire'])\n   'Age':pd.Series([25,30,27])\n   'Gender':pd.Series(['Female','Male','Female'])}\ndf=pd.DataFrame(a)\nprint(df)",
      "metadata": {
        "trusted": true
      },
      "execution_count": 35,
      "outputs": [
        {
          "ename": "<class 'SyntaxError'>",
          "evalue": "invalid syntax. Perhaps you forgot a comma? (<ipython-input-35-8b17ed45604c>, line 3)",
          "traceback": [
            "\u001b[0;36m  Cell \u001b[0;32mIn[35], line 3\u001b[0;36m\u001b[0m\n\u001b[0;31m    a={'Name':pd.Series(['Alice','Bob','Claire'])\u001b[0m\n\u001b[0m              ^\u001b[0m\n\u001b[0;31mSyntaxError\u001b[0m\u001b[0;31m:\u001b[0m invalid syntax. Perhaps you forgot a comma?\n"
          ],
          "output_type": "error"
        }
      ]
    },
    {
      "cell_type": "code",
      "source": "",
      "metadata": {},
      "execution_count": null,
      "outputs": []
    }
  ]
}