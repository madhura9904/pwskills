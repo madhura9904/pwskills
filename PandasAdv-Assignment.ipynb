{
 "cells": [
  {
   "cell_type": "code",
   "execution_count": null,
   "id": "374d73d6",
   "metadata": {},
   "outputs": [],
   "source": [
    "#1\n",
    "#Columns,dtypes,describe,max,categorical\n",
    "import pandas as pd\n",
    "df=pd.read_csv('https://raw.githubusercontent.com/datasciencedojo/datasets/master/titanic.csv')\n",
    "df.columns\n",
    "df.dtypes\n",
    "pd.Categorical(df['Pclass'])"
   ]
  },
  {
   "cell_type": "code",
   "execution_count": null,
   "id": "ecdb9a6d",
   "metadata": {},
   "outputs": [],
   "source": [
    "#2\n",
    "ex_index=[1,3,5]\n",
    "df(index=ex_index)"
   ]
  },
  {
   "cell_type": "code",
   "execution_count": null,
   "id": "885b01d8",
   "metadata": {},
   "outputs": [],
   "source": [
    "#3\n",
    "count=0\n",
    "for i in range(3):\n",
    "    count+=df['Values'][i]\n",
    "print('Count')"
   ]
  },
  {
   "cell_type": "code",
   "execution_count": null,
   "id": "13adb711",
   "metadata": {},
   "outputs": [],
   "source": [
    "#4\n",
    "shape=df.shape\n",
    "print(shape[0])\n",
    "for i in range(891):\n",
    "    df['Word_count'][i]=len(df['Text'][i])"
   ]
  },
  {
   "cell_type": "code",
   "execution_count": null,
   "id": "d95f1664",
   "metadata": {},
   "outputs": [],
   "source": [
    "#5\n",
    "#Size-Total no of elements,Shape-Dimensions or no of rows and columns"
   ]
  },
  {
   "cell_type": "code",
   "execution_count": null,
   "id": "f89ca18c",
   "metadata": {},
   "outputs": [],
   "source": [
    "#6\n",
    "pd.read_csv('File_name.csv')"
   ]
  },
  {
   "cell_type": "markdown",
   "id": "765a5594",
   "metadata": {},
   "source": [
    " "
   ]
  },
  {
   "cell_type": "code",
   "execution_count": null,
   "id": "02e6311a",
   "metadata": {},
   "outputs": [],
   "source": [
    "#7\n",
    "df['Username']=df['Email'][0:df['Email']['@']]"
   ]
  },
  {
   "cell_type": "code",
   "execution_count": null,
   "id": "a95df78d",
   "metadata": {},
   "outputs": [],
   "source": [
    "#8\n",
    "df[(df['A']>5) and (df['B']<10)]"
   ]
  },
  {
   "cell_type": "code",
   "execution_count": null,
   "id": "ac9ec13e",
   "metadata": {},
   "outputs": [],
   "source": [
    "#9\n",
    "df['Values'].mean()\n",
    "df['Values'].median()\n",
    "df['Values'].std()"
   ]
  },
  {
   "cell_type": "code",
   "execution_count": null,
   "id": "98745a9f",
   "metadata": {},
   "outputs": [],
   "source": [
    "#10\n",
    "df['Moving Average']=df[df['Sales'] and df['Date'][0:7]].mean()"
   ]
  },
  {
   "cell_type": "code",
   "execution_count": null,
   "id": "08b0e977",
   "metadata": {},
   "outputs": [],
   "source": [
    "#11\n",
    "df['Weekday']=df['Date']"
   ]
  },
  {
   "cell_type": "code",
   "execution_count": null,
   "id": "98dfa4a2",
   "metadata": {},
   "outputs": [],
   "source": [
    "#12\n",
    "df[df['Date'][-2:0]>1 and df['Date'][-2:0]<32]"
   ]
  },
  {
   "cell_type": "code",
   "execution_count": null,
   "id": "eb1063a5",
   "metadata": {},
   "outputs": [],
   "source": [
    "#13\n",
    "import pandas as pd"
   ]
  },
  {
   "cell_type": "markdown",
   "id": "71df2944",
   "metadata": {},
   "source": [
    "###### "
   ]
  }
 ],
 "metadata": {
  "kernelspec": {
   "display_name": "Python 3 (ipykernel)",
   "language": "python",
   "name": "python3"
  },
  "language_info": {
   "codemirror_mode": {
    "name": "ipython",
    "version": 3
   },
   "file_extension": ".py",
   "mimetype": "text/x-python",
   "name": "python",
   "nbconvert_exporter": "python",
   "pygments_lexer": "ipython3",
   "version": "3.11.5"
  }
 },
 "nbformat": 4,
 "nbformat_minor": 5
}
