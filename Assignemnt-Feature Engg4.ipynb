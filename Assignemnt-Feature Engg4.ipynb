{
 "cells": [
  {
   "cell_type": "code",
   "execution_count": null,
   "id": "b4ff18d9",
   "metadata": {},
   "outputs": [],
   "source": [
    "#1\n",
    "df=pd.load_dataset()\n",
    "df.corr(df['time_studied','final_scores'],method='Pearson')\n",
    "If correlation positive/negative it means students who studied less got less scores,and those who studied more scored more.\n",
    "If not they are not correlated"
   ]
  },
  {
   "cell_type": "code",
   "execution_count": null,
   "id": "f019625e",
   "metadata": {},
   "outputs": [],
   "source": [
    "#2\n",
    "df=pd.load_dataset()\n",
    "df.corr(df['tamt_sleep','job_satisfaction'],method='Spearman')\n",
    "If correlation positive/negative it means speople who slept less got less satisfaction,and those who slept more scored more.\n",
    "If not they are not correlated"
   ]
  },
  {
   "cell_type": "code",
   "execution_count": null,
   "id": "d9b7e358",
   "metadata": {},
   "outputs": [],
   "source": [
    "#3\n",
    "df=pd.load_dataset()\n",
    "corr1=df.corr(df['exercise_hrs','bmi'],method='Spearman')\n",
    "corr2=df.corr(df['exercise_hrs','bmi'],method='Pearson')"
   ]
  },
  {
   "cell_type": "code",
   "execution_count": null,
   "id": "55984b4f",
   "metadata": {},
   "outputs": [],
   "source": [
    "#4\n",
    "df=pd.load_dataset()\n",
    "df.corr(df['TV_hrs','physical_activity'],method='Pearson')"
   ]
  },
  {
   "cell_type": "code",
   "execution_count": null,
   "id": "44b67288",
   "metadata": {},
   "outputs": [],
   "source": [
    "#6\n",
    "df=pd.load_dataset()\n",
    "df.corr(df['No of sales calls','no of sales'],method='Pearson')"
   ]
  }
 ],
 "metadata": {
  "kernelspec": {
   "display_name": "Python 3 (ipykernel)",
   "language": "python",
   "name": "python3"
  },
  "language_info": {
   "codemirror_mode": {
    "name": "ipython",
    "version": 3
   },
   "file_extension": ".py",
   "mimetype": "text/x-python",
   "name": "python",
   "nbconvert_exporter": "python",
   "pygments_lexer": "ipython3",
   "version": "3.11.5"
  }
 },
 "nbformat": 4,
 "nbformat_minor": 5
}
