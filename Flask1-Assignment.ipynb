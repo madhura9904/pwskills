{
 "cells": [
  {
   "cell_type": "code",
   "execution_count": null,
   "id": "aca862b7",
   "metadata": {},
   "outputs": [],
   "source": [
    "Flask is a micro web framework written in Python. It is lightweight, flexible, and easy to use, making it ideal for small to medium-sized web applications. Flask is referred to as a \"micro\" framework because it does not include many built-in tools or libraries, allowing developers to pick and choose the components they need for their project.\n",
    "\n",
    "Lightweight and Flexible:\n",
    "\n",
    "Flask is minimalistic and doesn't come with many pre-installed features, which makes it highly customizable.\n",
    "Developers can choose libraries and tools as per their project requirements.\n",
    "Easy to Learn and Use:\n",
    "\n",
    "Flask has a simple and well-documented API, making it beginner-friendly.\n",
    "The framework follows Python's straightforward syntax and philosophy.\n",
    "Modular and Scalable:\n",
    "\n",
    "Flask applications are modular, meaning you can structure your app into reusable components.\n",
    "While it is simple for small projects, Flask can handle scalability for larger applications with the right tools.\n",
    "Built-in Development Server and Debugger:\n",
    "\n",
    "Flask includes a development server and an interactive debugger, which help developers debug and test their applications efficiently.\n",
    "Wide Compatibility with Extensions:\n",
    "\n",
    "Flask supports many extensions for features like authentication, database management, form validation, and more.\n",
    "Popular extensions include Flask-SQLAlchemy, Flask-WTF, and Flask-Login."
   ]
  },
  {
   "cell_type": "code",
   "execution_count": null,
   "id": "738aa555",
   "metadata": {},
   "outputs": [],
   "source": [
    "from flask import Flask\n",
    "\n",
    "# Create a Flask application instance\n",
    "app = Flask(__name__)\n",
    "\n",
    "# Define a route for the root URL\n",
    "@app.route('/')\n",
    "def hello_world():\n",
    "    return 'Hello World!!'\n",
    "\n",
    "# Run the application\n",
    "if __name__ == '__main__':\n",
    "    app.run(debug=True)\n"
   ]
  },
  {
   "cell_type": "code",
   "execution_count": null,
   "id": "cfb6fb89",
   "metadata": {},
   "outputs": [],
   "source": [
    "App routing in Flask refers to mapping URLs (web addresses) to specific functions within a Flask application. These functions, known as view functions, define what response is sent to the user when they visit a particular URL.\n",
    "\n",
    "In Flask, app routing is implemented using the @app.route decorator. This decorator binds a function to a specific URL, enabling the Flask application to handle requests for that URL.\n",
    "\n",
    "Why Do We Use App Routes?\n",
    "URL Management:\n",
    "\n",
    "App routes allow you to define which URL will trigger which function, providing clarity and control over URL management in your application.\n",
    "Dynamic Content Delivery:\n",
    "\n",
    "Routes make it possible to deliver different content based on the URL. For example:\n",
    "/home can display the homepage.\n",
    "/about can display an \"About Us\" page."
   ]
  },
  {
   "cell_type": "code",
   "execution_count": null,
   "id": "3aa263f7",
   "metadata": {},
   "outputs": [],
   "source": [
    "from flask import Flask\n",
    "\n",
    "app = Flask(__name__)\n",
    "\n",
    "# Route to display the welcome message\n",
    "@app.route('/welcome')\n",
    "def welcome():\n",
    "    return 'Welcome to ABC Corporation'\n",
    "\n",
    "# Route to display company details\n",
    "@app.route('/')\n",
    "def company_details():\n",
    "    return '''\n",
    "    <h1>Company Details</h1>\n",
    "    <p><strong>Company Name:</strong> ABC Corporation</p>\n",
    "    <p><strong>Location:</strong> India</p>\n",
    "    <p><strong>Contact Detail:</strong> 999-999-9999</p>\n",
    "    '''\n",
    "\n",
    "if __name__ == '__main__':\n",
    "    app.run(debug=True)\n"
   ]
  },
  {
   "cell_type": "code",
   "execution_count": null,
   "id": "2b5102b2",
   "metadata": {},
   "outputs": [],
   "source": [
    "URL Building in Flask\n",
    "The url_for() function in Flask is used for URL building. It generates a URL for a specific function based on its name and can also handle dynamic arguments for routes.\n",
    "\n",
    "Why Use url_for()?\n",
    "It helps create dynamic URLs.\n",
    "It ensures URLs are generated correctly even if the application structure or route definitions change.\n",
    "It makes the code more maintainable and less prone to hardcoding errors."
   ]
  }
 ],
 "metadata": {
  "kernelspec": {
   "display_name": "Python 3 (ipykernel)",
   "language": "python",
   "name": "python3"
  },
  "language_info": {
   "codemirror_mode": {
    "name": "ipython",
    "version": 3
   },
   "file_extension": ".py",
   "mimetype": "text/x-python",
   "name": "python",
   "nbconvert_exporter": "python",
   "pygments_lexer": "ipython3",
   "version": "3.11.5"
  }
 },
 "nbformat": 4,
 "nbformat_minor": 5
}
