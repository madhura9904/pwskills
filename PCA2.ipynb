{
 "cells": [
  {
   "cell_type": "code",
   "execution_count": null,
   "id": "5e2b6a64",
   "metadata": {},
   "outputs": [],
   "source": [
    "#1\n",
    "Projection of a vector1 on vector2 is the shade of vector1 on vector2.Mapping of one set of points of a given space on another subspace.\n",
    "It is used to reduce the features.\n",
    "Projection is the core operation that:\n",
    "\n",
    "Transforms data into the new coordinate system defined by the principal components.\n",
    "Reduces dimensionality while preserving as much variance as possible in the data.\n",
    "Facilitates visualization, noise reduction, and preprocessing for machine learning tasks."
   ]
  },
  {
   "cell_type": "code",
   "execution_count": null,
   "id": "0bf552fe",
   "metadata": {},
   "outputs": [],
   "source": [
    "#2\n",
    "First we find the covariance of a given matrix.\n",
    "Then the consequent eigenvalues and eigenvectors.\n",
    "We then choose the eigen vector with the eigen value with the most magnitude.\n",
    "That is the most important principal component."
   ]
  },
  {
   "cell_type": "code",
   "execution_count": null,
   "id": "0f713457",
   "metadata": {},
   "outputs": [],
   "source": [
    "#3\n",
    "First we find the covariance of a given matrix.\n",
    "Then the consequent eigenvalues and eigenvectors.\n",
    "We then choose the eigen vector with the eigen value with the most magnitude.\n",
    "That is the most important principal component."
   ]
  },
  {
   "cell_type": "code",
   "execution_count": null,
   "id": "51fe6fc6",
   "metadata": {},
   "outputs": [],
   "source": [
    "#4\n",
    "The lesser the number of pricipal components greater the accuracy."
   ]
  },
  {
   "cell_type": "code",
   "execution_count": null,
   "id": "ba493bc0",
   "metadata": {},
   "outputs": [],
   "source": [
    "#5\n",
    "We select the features with the highest eigen value;by doing so the features we select will produce the output with the highest \n",
    "accuracy."
   ]
  },
  {
   "cell_type": "code",
   "execution_count": null,
   "id": "d33d82c4",
   "metadata": {},
   "outputs": [],
   "source": [
    "#6\n",
    "PCA is used to select the most important features and by doing so helps to reduce the dimension of the dataset,reducing the curse of \n",
    "dimensionality,selecting the most important features and improving accuracy."
   ]
  },
  {
   "cell_type": "code",
   "execution_count": null,
   "id": "4bb3d4ba",
   "metadata": {},
   "outputs": [],
   "source": [
    "#7\n",
    "Spread:How far the data is spread,or the range of the data.\n",
    "Variance:How sensitive the data is to any fluctuations."
   ]
  },
  {
   "cell_type": "code",
   "execution_count": null,
   "id": "d8eac31f",
   "metadata": {},
   "outputs": [],
   "source": [
    "#8\n",
    "Variance measures how spread out the data is along a particular direction (axis).\n",
    "PCA aims to identify new axes (principal components) such that:\n",
    "The first principal component captures the maximum variance in the data.\n",
    "The subsequent components capture the remaining variance, subject to being orthogonal (uncorrelated) to the previous components.\n"
   ]
  },
  {
   "cell_type": "code",
   "execution_count": null,
   "id": "e0c322c5",
   "metadata": {},
   "outputs": [],
   "source": [
    "#9\n",
    "The data with the highest variance has the highest eigen value.This means data is  scattered most in that direction.So we capture \n",
    "the data in that direction so as to not to lose much data.\n",
    "So that direction is chosen.\n",
    "This is opposed to one with low variance,where range of data is less spread and not chosen.\n"
   ]
  }
 ],
 "metadata": {
  "kernelspec": {
   "display_name": "Python 3 (ipykernel)",
   "language": "python",
   "name": "python3"
  },
  "language_info": {
   "codemirror_mode": {
    "name": "ipython",
    "version": 3
   },
   "file_extension": ".py",
   "mimetype": "text/x-python",
   "name": "python",
   "nbconvert_exporter": "python",
   "pygments_lexer": "ipython3",
   "version": "3.11.5"
  }
 },
 "nbformat": 4,
 "nbformat_minor": 5
}
